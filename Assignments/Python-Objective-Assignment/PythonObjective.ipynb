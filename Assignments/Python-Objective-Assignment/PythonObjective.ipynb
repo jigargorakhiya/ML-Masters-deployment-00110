{
 "cells": [
  {
   "cell_type": "code",
   "execution_count": 2,
   "metadata": {},
   "outputs": [
    {
     "data": {
      "text/plain": [
       "(4, 6)"
      ]
     },
     "execution_count": 2,
     "metadata": {},
     "output_type": "execute_result"
    }
   ],
   "source": [
    "class Point:\n",
    "    def __init__(self, x = 0, y = 0):\n",
    "        self.x = x \n",
    "        self.y = y\n",
    "    \n",
    "    def __sub__(self, other):\n",
    "        x = self.x + other.x \n",
    "        y = self.y + other.y\n",
    "        return Point(x,y)\n",
    "    \n",
    "p1 = Point(3, 4) \n",
    "p2 = Point(1, 2) \n",
    "result = p1-p2\n",
    "result.x,result.y"
   ]
  },
  {
   "cell_type": "code",
   "execution_count": 12,
   "metadata": {},
   "outputs": [
    {
     "data": {
      "text/plain": [
       "'hi,\\nhow are\\nyou'"
      ]
     },
     "execution_count": 12,
     "metadata": {},
     "output_type": "execute_result"
    }
   ],
   "source": [
    "f = open('test.txt', 'r', encoding = 'utf-8')\n",
    "f.read(20)"
   ]
  },
  {
   "cell_type": "code",
   "execution_count": 15,
   "metadata": {},
   "outputs": [
    {
     "data": {
      "text/plain": [
       "['PythonObjective.ipynb',\n",
       " 'Session 1.2 - String and list Objects.ipynb',\n",
       " 'test.txt',\n",
       " '.ipynb_checkpoints',\n",
       " 'Session2.1_Containers and Functions.ipynb',\n",
       " 'Session 1.1 - Python-Installation and Basics.ipynb']"
      ]
     },
     "execution_count": 15,
     "metadata": {},
     "output_type": "execute_result"
    }
   ],
   "source": [
    "import os\n",
    "os.listdir()"
   ]
  },
  {
   "cell_type": "code",
   "execution_count": 1,
   "metadata": {},
   "outputs": [
    {
     "name": "stdout",
     "output_type": "stream",
     "text": [
      "Hello ('Frodo', 'Sauron', 'ds')\n"
     ]
    }
   ],
   "source": [
    "def greetPerson(*name):\n",
    "    print('Hello', name)\n",
    "\n",
    "greetPerson('Frodo', 'Sauron',\"ds\")"
   ]
  },
  {
   "cell_type": "code",
   "execution_count": 7,
   "metadata": {},
   "outputs": [
    {
     "name": "stdout",
     "output_type": "stream",
     "text": [
      "['1', '2', 'boiledegg']\n",
      "['2', '3', '5']\n"
     ]
    }
   ],
   "source": [
    "import csv\n",
    "with open('eggs.csv', newline='') as csvfile:\n",
    "    spamreader = csv.reader(csvfile, delimiter=',', quotechar='|')\n",
    "    for row in spamreader:\n",
    "        print(row)"
   ]
  },
  {
   "cell_type": "code",
   "execution_count": 37,
   "metadata": {},
   "outputs": [],
   "source": [
    "with open('eggs.csv', mode='w') as csv_file:\n",
    "    writer = csv.DictWriter( csv_file,fieldnames=['first_col', 'second_col'] )\n",
    "    writer.writeheader()\n",
    "    # This input dictionary is what the question is referring # to and is not necessarily correct as shown. \n",
    "    writer.writerow({'first_col':'value1', 'second_col':'value2'})\n",
    "    writer.writerow({'first_col':'value3', 'second_col':'value4'})"
   ]
  },
  {
   "cell_type": "code",
   "execution_count": 13,
   "metadata": {},
   "outputs": [],
   "source": [
    "import pandas as pd"
   ]
  },
  {
   "cell_type": "code",
   "execution_count": 25,
   "metadata": {},
   "outputs": [
    {
     "data": {
      "text/html": [
       "<div>\n",
       "<style scoped>\n",
       "    .dataframe tbody tr th:only-of-type {\n",
       "        vertical-align: middle;\n",
       "    }\n",
       "\n",
       "    .dataframe tbody tr th {\n",
       "        vertical-align: top;\n",
       "    }\n",
       "\n",
       "    .dataframe thead th {\n",
       "        text-align: right;\n",
       "    }\n",
       "</style>\n",
       "<table border=\"1\" class=\"dataframe\">\n",
       "  <thead>\n",
       "    <tr style=\"text-align: right;\">\n",
       "      <th></th>\n",
       "      <th>second_col</th>\n",
       "    </tr>\n",
       "    <tr>\n",
       "      <th>first_col</th>\n",
       "      <th></th>\n",
       "    </tr>\n",
       "  </thead>\n",
       "  <tbody>\n",
       "    <tr>\n",
       "      <th>value1</th>\n",
       "      <td>value2</td>\n",
       "    </tr>\n",
       "    <tr>\n",
       "      <th>value3</th>\n",
       "      <td>value4</td>\n",
       "    </tr>\n",
       "  </tbody>\n",
       "</table>\n",
       "</div>"
      ],
      "text/plain": [
       "          second_col\n",
       "first_col           \n",
       "value1        value2\n",
       "value3        value4"
      ]
     },
     "execution_count": 25,
     "metadata": {},
     "output_type": "execute_result"
    }
   ],
   "source": [
    "pd.read_csv('eggs.csv',index_col=\"first_col\")"
   ]
  },
  {
   "cell_type": "code",
   "execution_count": 44,
   "metadata": {},
   "outputs": [
    {
     "name": "stdout",
     "output_type": "stream",
     "text": [
      "first_col,second_col\n",
      "\n"
     ]
    }
   ],
   "source": [
    "f=open(\"eggs.csv\")\n",
    "line=f.readline()\n",
    "print(line)\n",
    "f.close()"
   ]
  },
  {
   "cell_type": "code",
   "execution_count": 50,
   "metadata": {},
   "outputs": [
    {
     "data": {
      "text/plain": [
       "'/Users/jigar/Documents/Jigar/Machine-Learning/ML-Masters-deployment-00110/Assignments/Python-Objective-Assignment/feeline//A11/'"
      ]
     },
     "execution_count": 50,
     "metadata": {},
     "output_type": "execute_result"
    }
   ],
   "source": [
    "import os\n",
    "cwd = os.getcwd() + \"/feeline/\"\n",
    "\n",
    "string = cwd + \"/A11/\"\n",
    "string"
   ]
  },
  {
   "cell_type": "code",
   "execution_count": 57,
   "metadata": {},
   "outputs": [
    {
     "name": "stdout",
     "output_type": "stream",
     "text": [
      "first_col,second_col\n",
      "value1,value2\n",
      "value3,value4\n",
      " 11\n"
     ]
    }
   ],
   "source": [
    "with open('eggs.csv', 'r') as myfile:\n",
    "    data = myfile.read()\n",
    "    print(data,11)\n"
   ]
  },
  {
   "cell_type": "code",
   "execution_count": 66,
   "metadata": {},
   "outputs": [
    {
     "data": {
      "text/plain": [
       "-0.04"
      ]
     },
     "execution_count": 66,
     "metadata": {},
     "output_type": "execute_result"
    }
   ],
   "source": [
    "round(-0.045,2)"
   ]
  },
  {
   "cell_type": "code",
   "execution_count": 77,
   "metadata": {},
   "outputs": [
    {
     "name": "stdout",
     "output_type": "stream",
     "text": [
      "b\n"
     ]
    }
   ],
   "source": [
    "class B:\n",
    "    def __init__(self):\n",
    "        print(\"b\")\n",
    "\n",
    "class C:\n",
    "    def __init__(self):\n",
    "        print(\"C\")\n",
    "\n",
    "class A(B,C):\n",
    "    def test(self):\n",
    "        print(\"Fa\")\n",
    "        \n",
    "A = A()"
   ]
  },
  {
   "cell_type": "code",
   "execution_count": 79,
   "metadata": {},
   "outputs": [
    {
     "name": "stdout",
     "output_type": "stream",
     "text": [
      "C\n",
      "C\n"
     ]
    }
   ],
   "source": [
    "class A:\n",
    "    def __init__(self):\n",
    "        print(\"A\")\n",
    "\n",
    "class B(A):\n",
    "    def __init__(self):\n",
    "        print(\"b\")\n",
    "\n",
    "class C(B):\n",
    "    def __init__(self):\n",
    "        print(\"C\")\n",
    "\n",
    "class D(C):\n",
    "    def test(self):\n",
    "        print(\"D\")\n",
    "\n",
    "class E(D):\n",
    "    def test(self):\n",
    "        print(\"E\")\n",
    "        \n",
    "E = E()\n",
    "D = D()"
   ]
  }
 ],
 "metadata": {
  "kernelspec": {
   "display_name": "Python 3",
   "language": "python",
   "name": "python3"
  },
  "language_info": {
   "codemirror_mode": {
    "name": "ipython",
    "version": 3
   },
   "file_extension": ".py",
   "mimetype": "text/x-python",
   "name": "python",
   "nbconvert_exporter": "python",
   "pygments_lexer": "ipython3",
   "version": "3.7.5"
  }
 },
 "nbformat": 4,
 "nbformat_minor": 2
}
