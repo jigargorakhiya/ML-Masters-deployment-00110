{
 "cells": [
  {
   "cell_type": "markdown",
   "metadata": {},
   "source": [
    "## Task 1"
   ]
  },
  {
   "cell_type": "markdown",
   "metadata": {},
   "source": [
    "#### 1.1 Write a Python Program to implement your own myreduce() function which works exactly like Python's built-in function reduce()"
   ]
  },
  {
   "cell_type": "code",
   "execution_count": 85,
   "metadata": {},
   "outputs": [
    {
     "data": {
      "text/plain": [
       "6"
      ]
     },
     "execution_count": 85,
     "metadata": {},
     "output_type": "execute_result"
    }
   ],
   "source": [
    "from functools import reduce\n",
    "\n",
    "def myreduce(func,seq): \n",
    "    result = seq[0]\n",
    "    for item in seq[1:]:\n",
    "        result = func(result,item)\n",
    "    \n",
    "    return result\n",
    "\n",
    "def findMax(a,b):\n",
    "    if a > b:\n",
    "        return a\n",
    "    else:\n",
    "        return b\n",
    "    \n",
    "numbers = [1,2,3,4,5,6]\n",
    "myreduce(findMin,numbers)"
   ]
  },
  {
   "cell_type": "markdown",
   "metadata": {},
   "source": [
    "#### 1.2 Write a Python program to implement your own myfilter() function which works exactly like Python's built-in function filter()"
   ]
  },
  {
   "cell_type": "code",
   "execution_count": 74,
   "metadata": {},
   "outputs": [
    {
     "name": "stdout",
     "output_type": "stream",
     "text": [
      "[2, 4, 6] [1, 3, 5]\n"
     ]
    }
   ],
   "source": [
    "def myfilter(func,seq): \n",
    "    result = []\n",
    "    for item in seq:\n",
    "        if func(item):\n",
    "            result.append(item)\n",
    "    \n",
    "    return result\n",
    "\n",
    "numbers = [1,2,3,4,5,6]\n",
    "#filter even number\n",
    "even = myfilter(lambda number: number%2 ==0,numbers)\n",
    "\n",
    "#filter odd number\n",
    "odd = myfilter(lambda number: number%2 ==1,numbers)\n",
    "\n",
    "print(even,odd)"
   ]
  },
  {
   "cell_type": "markdown",
   "metadata": {},
   "source": [
    "#### 1.3 Write List comprehensions to produce the following Lists"
   ]
  },
  {
   "cell_type": "code",
   "execution_count": null,
   "metadata": {},
   "outputs": [],
   "source": []
  },
  {
   "cell_type": "markdown",
   "metadata": {},
   "source": [
    "#### 1.4 Implement a function longestWord() that takes a list of words and returns the longest one."
   ]
  },
  {
   "cell_type": "code",
   "execution_count": 49,
   "metadata": {},
   "outputs": [
    {
     "name": "stdout",
     "output_type": "stream",
     "text": [
      "Longest word is World with lenght 5\n"
     ]
    }
   ],
   "source": [
    "word_count = {}\n",
    "def longestWord(words):\n",
    "    for word in words:\n",
    "        word_count[word] = len(word)\n",
    "\n",
    "    sorted_word_by_count = sorted(word_count.values(),reverse=True)\n",
    "    \n",
    "    for (key,val) in word_count.items():\n",
    "        if val == sorted_word_by_count[0]:\n",
    "            return key,val\n",
    "\n",
    "longest_word = longestWord([\"Heo\",\"World\",\"Hi\"])\n",
    "\n",
    "print(\"Longest word is {} with lenght {}\".format(longest_word[0],longest_word[1]))"
   ]
  },
  {
   "cell_type": "code",
   "execution_count": null,
   "metadata": {},
   "outputs": [],
   "source": []
  }
 ],
 "metadata": {
  "kernelspec": {
   "display_name": "Python 3",
   "language": "python",
   "name": "python3"
  },
  "language_info": {
   "codemirror_mode": {
    "name": "ipython",
    "version": 3
   },
   "file_extension": ".py",
   "mimetype": "text/x-python",
   "name": "python",
   "nbconvert_exporter": "python",
   "pygments_lexer": "ipython3",
   "version": "3.7.5"
  }
 },
 "nbformat": 4,
 "nbformat_minor": 2
}
