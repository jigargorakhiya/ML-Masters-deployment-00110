{
 "cells": [
  {
   "cell_type": "markdown",
   "metadata": {},
   "source": [
    "## Task 1"
   ]
  },
  {
   "cell_type": "markdown",
   "metadata": {},
   "source": [
    "#### 1.1 Write a Python Program to implement your own myreduce() function which works exactly like Python's built-in function reduce()"
   ]
  },
  {
   "cell_type": "code",
   "execution_count": 1,
   "metadata": {},
   "outputs": [
    {
     "data": {
      "text/plain": [
       "6"
      ]
     },
     "execution_count": 1,
     "metadata": {},
     "output_type": "execute_result"
    }
   ],
   "source": [
    "from functools import reduce\n",
    "\n",
    "def myreduce(func,seq): \n",
    "    result = seq[0]\n",
    "    for item in seq[1:]:\n",
    "        result = func(result,item)\n",
    "    \n",
    "    return result\n",
    "\n",
    "def findMax(a,b):\n",
    "    if a > b:\n",
    "        return a\n",
    "    else:\n",
    "        return b\n",
    "    \n",
    "numbers = [1,2,3,4,5,6]\n",
    "myreduce(findMax,numbers)"
   ]
  },
  {
   "cell_type": "markdown",
   "metadata": {},
   "source": [
    "#### 1.2 Write a Python program to implement your own myfilter() function which works exactly like Python's built-in function filter()"
   ]
  },
  {
   "cell_type": "code",
   "execution_count": 2,
   "metadata": {},
   "outputs": [
    {
     "name": "stdout",
     "output_type": "stream",
     "text": [
      "[2, 4, 6] [1, 3, 5]\n"
     ]
    }
   ],
   "source": [
    "def myfilter(func,seq): \n",
    "    result = []\n",
    "    for item in seq:\n",
    "        if func(item):\n",
    "            result.append(item)\n",
    "    \n",
    "    return result\n",
    "\n",
    "numbers = [1,2,3,4,5,6]\n",
    "#filter even number\n",
    "even = myfilter(lambda number: number%2 ==0,numbers)\n",
    "\n",
    "#filter odd number\n",
    "odd = myfilter(lambda number: number%2 ==1,numbers)\n",
    "\n",
    "print(even,odd)"
   ]
  },
  {
   "cell_type": "markdown",
   "metadata": {},
   "source": [
    "#### 1.3 Write List comprehensions to produce the following Lists"
   ]
  },
  {
   "cell_type": "code",
   "execution_count": 167,
   "metadata": {},
   "outputs": [
    {
     "name": "stdout",
     "output_type": "stream",
     "text": [
      "['A', 'C', 'A', 'D', 'G', 'I', 'L', 'D']\n",
      "['x', 'xx', 'xxx', 'xxxx', 'y', 'yy', 'yyy', 'yyyy', 'z', 'zz', 'zzz', 'zzzz']\n",
      "['x', 'y', 'z', 'xx', 'yy', 'zz', 'xxx', 'yyy', 'zzz', 'xxxx', 'yyyy', 'zzzz']\n",
      "[[2], [3], [4], [3], [4], [5], [4], [5], [6]]\n",
      "[[2, 3, 4, 5], [3, 4, 5, 6], [4, 5, 6, 7], [5, 6, 7, 8]]\n",
      "[(1, 1), (2, 1), (3, 1), (1, 2), (2, 2), (3, 2), (1, 3), (2, 3), (3, 3)]\n"
     ]
    }
   ],
   "source": [
    "list_1 = [i for i in 'ACADGILD']\n",
    "print(list_1)\n",
    "\n",
    "list2 = ['x','y','z']\n",
    "list2_op = [char * i for char in list2 for i in range(1,5)]\n",
    "print( list2_op )\n",
    "\n",
    "list3_op = [ char * i for i in range(1,5) for char in list2]          \n",
    "print( list3_op )\n",
    "\n",
    "list4_op = [ [i+j]  for i in range(2,5) for j in range(0,3)]\n",
    "print( list4_op )\n",
    "\n",
    "list5_op = [[i + j for j in [0, 1, 2, 3]] for i in range(2, 6)]\n",
    "print( list5_op )\n",
    "\n",
    "list6_op = [ (num,i) for i in range(1,4) for num in range(1,4)]\n",
    "print(list6_op)"
   ]
  },
  {
   "cell_type": "markdown",
   "metadata": {},
   "source": [
    "#### 1.4 Implement a function longestWord() that takes a list of words and returns the longest one."
   ]
  },
  {
   "cell_type": "code",
   "execution_count": 3,
   "metadata": {},
   "outputs": [
    {
     "name": "stdout",
     "output_type": "stream",
     "text": [
      "Longest word is World with lenght 5\n"
     ]
    }
   ],
   "source": [
    "word_count = {}\n",
    "def longestWord(words):\n",
    "    for word in words:\n",
    "        word_count[word] = len(word)\n",
    "\n",
    "    sorted_word_by_count = sorted(word_count.values(),reverse=True)\n",
    "    \n",
    "    for (key,val) in word_count.items():\n",
    "        if val == sorted_word_by_count[0]:\n",
    "            return key,val\n",
    "\n",
    "longest_word = longestWord([\"Heo\",\"World\",\"Hi\"])\n",
    "\n",
    "print(\"Longest word is {} with lenght {}\".format(longest_word[0],longest_word[1]))"
   ]
  },
  {
   "cell_type": "markdown",
   "metadata": {},
   "source": [
    "## Task 2:"
   ]
  },
  {
   "cell_type": "markdown",
   "metadata": {},
   "source": [
    "#### 2.1 Write a Python Program(with class concepts) to find the area of the triangle using the below formula. <br/>\n",
    "    area = (s*(s-a)*(s-b)*(s-c)) ** 0.5"
   ]
  },
  {
   "cell_type": "code",
   "execution_count": 31,
   "metadata": {},
   "outputs": [
    {
     "name": "stdout",
     "output_type": "stream",
     "text": [
      "Enter the value of a = 20\n",
      "Enter the value of b = 30\n",
      "Enter the value of c = 40\n",
      "Area = 290.47\n"
     ]
    }
   ],
   "source": [
    "class Triangle:\n",
    "    def __init__(self,a,b,c):\n",
    "        self.a = float(a)\n",
    "        self.b = float(b)\n",
    "        self.c = float(c)\n",
    "        \n",
    "    def calcaulateArea(self):\n",
    "        s= (self.a + self.b + self.c)/2\n",
    "        return (s*(s-self.a)*(s-self.b)*(s-self.c)) ** 0.5\n",
    "    \n",
    "a = input(\"Enter the value of a = \")\n",
    "b = input(\"Enter the value of b = \")\n",
    "c = input(\"Enter the value of c = \")\n",
    "\n",
    "t = Triangle(a,b,c)\n",
    "\n",
    "print (\"Area = {0:.2f}\".format(t.calcaulateArea()))"
   ]
  },
  {
   "cell_type": "markdown",
   "metadata": {},
   "source": [
    "#### 2.2 Write a function filter_long_words() that takes a list of words and an integer n and returns the list of words that are longer than n."
   ]
  },
  {
   "cell_type": "code",
   "execution_count": 4,
   "metadata": {},
   "outputs": [
    {
     "data": {
      "text/plain": [
       "['Hello', 'World']"
      ]
     },
     "execution_count": 4,
     "metadata": {},
     "output_type": "execute_result"
    }
   ],
   "source": [
    "def filter_long_words(words,n):\n",
    "    return [word for word in words if len(word) > n]\n",
    "\n",
    "words =[\"Hello\",\"World\",\"Hi\"]\n",
    "n=3\n",
    "\n",
    "filter_long_words(words,n)"
   ]
  },
  {
   "cell_type": "markdown",
   "metadata": {},
   "source": [
    "#### 2.3 Write a Python program using function concept that maps list of words into a list of integers representing the lengths of the corresponding words."
   ]
  },
  {
   "cell_type": "code",
   "execution_count": 32,
   "metadata": {},
   "outputs": [
    {
     "data": {
      "text/plain": [
       "[('Hello', 5), ('World', 5), ('Hi', 2)]"
      ]
     },
     "execution_count": 32,
     "metadata": {},
     "output_type": "execute_result"
    }
   ],
   "source": [
    "words =[\"Hello\",\"World\",\"Hi\"]\n",
    "\n",
    "word_length = map(lambda word:(word,len(word)),words)\n",
    "\n",
    "list(word_length)"
   ]
  },
  {
   "cell_type": "markdown",
   "metadata": {},
   "source": [
    "#### 2.4 Write a Python function which takes a character (i.e. a string of length 1) and returns True if it is a vowel, False otherwise."
   ]
  },
  {
   "cell_type": "code",
   "execution_count": 31,
   "metadata": {},
   "outputs": [
    {
     "name": "stdout",
     "output_type": "stream",
     "text": [
      "Enter any char:a\n",
      "a is Vowel: True\n"
     ]
    }
   ],
   "source": [
    "def checkVowel(char):\n",
    "    vowels = ['a','e','i','o','u']\n",
    "    if(char in vowels):\n",
    "        return True\n",
    "    return False\n",
    "\n",
    "char = input(\"Enter any char:\")\n",
    "print( \"{} is Vowel: {}\".format(char, checkVowel(char.lower()) ) )"
   ]
  }
 ],
 "metadata": {
  "kernelspec": {
   "display_name": "Python 3",
   "language": "python",
   "name": "python3"
  },
  "language_info": {
   "codemirror_mode": {
    "name": "ipython",
    "version": 3
   },
   "file_extension": ".py",
   "mimetype": "text/x-python",
   "name": "python",
   "nbconvert_exporter": "python",
   "pygments_lexer": "ipython3",
   "version": "3.7.5"
  }
 },
 "nbformat": 4,
 "nbformat_minor": 2
}
