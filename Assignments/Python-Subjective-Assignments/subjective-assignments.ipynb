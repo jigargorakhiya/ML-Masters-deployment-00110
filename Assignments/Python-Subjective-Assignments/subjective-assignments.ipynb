{
 "cells": [
  {
   "cell_type": "markdown",
   "metadata": {},
   "source": [
    "#### Q1. Write a Python program to get the string from the given string where all the occurrence of its first char has been changed to $,' except first char itself?\n",
    " \n",
    "Sample String: 'prospect'<br/>\n",
    "Expected Result : 'pros$ect'"
   ]
  },
  {
   "cell_type": "code",
   "execution_count": 25,
   "metadata": {},
   "outputs": [
    {
     "name": "stdout",
     "output_type": "stream",
     "text": [
      "Enter string:hello world\n"
     ]
    },
    {
     "data": {
      "text/plain": [
       "'hel$o w$r$d'"
      ]
     },
     "execution_count": 25,
     "metadata": {},
     "output_type": "execute_result"
    }
   ],
   "source": [
    "input_string = input(\"Enter string:\")\n",
    "\n",
    "l=[]\n",
    "op_string = ''\n",
    "for s in input_string:\n",
    "    if(s in l):\n",
    "        op_string +=\"$\"\n",
    "    else:\n",
    "        op_string +=s\n",
    "    \n",
    "    l.append(s)\n",
    "    \n",
    "op_string"
   ]
  },
  {
   "cell_type": "markdown",
   "metadata": {},
   "source": [
    "#### Q2. Write a Python program to get the single string from the two given strings, and separated by the space and swap the first two characters of  each string?\n",
    "\n",
    "Sample String : 'abc', 'xyz'. <br/>\n",
    "Expected Result: 'xyc abz'"
   ]
  },
  {
   "cell_type": "code",
   "execution_count": 149,
   "metadata": {},
   "outputs": [
    {
     "data": {
      "text/plain": [
       "'xyc abz'"
      ]
     },
     "execution_count": 149,
     "metadata": {},
     "output_type": "execute_result"
    }
   ],
   "source": [
    "string1 = 'abc'\n",
    "string2 = 'xyz'\n",
    "\n",
    "op_string1 = string2[:2]+string1[2:]\n",
    "op_string2 = string1[:2]+string2[2:]\n",
    "op_string =  op_string1 + \" \" +  op_string2\n",
    "\n",
    "op_string"
   ]
  },
  {
   "cell_type": "markdown",
   "metadata": {},
   "source": [
    "##### Q3. Write the Python program to add 'ing' at the end of the given string (length of the string should be at least 3). If given string already ends with 'ing,' then add 'ly' instead. If string length of the given string is less than 3, leave it unchanged?\n",
    "\n",
    " Sample string: ' abc ' <br/>\n",
    " Expectedresult: 'abcing' <br/>\n",
    " Samplestring: 'string' <br/>\n",
    " Expectedresult: 'stringly'<br/>"
   ]
  },
  {
   "cell_type": "code",
   "execution_count": 152,
   "metadata": {},
   "outputs": [
    {
     "data": {
      "text/plain": [
       "'abcing'"
      ]
     },
     "execution_count": 152,
     "metadata": {},
     "output_type": "execute_result"
    }
   ],
   "source": [
    "s= \"abc\"\n",
    "\n",
    "if(len(s) >= 3):\n",
    "    if(s[-3:] != 'ing'):\n",
    "        s +=\"ing\"\n",
    "    else:\n",
    "        s +=\"ly\"\n",
    "\n",
    "s"
   ]
  },
  {
   "cell_type": "markdown",
   "metadata": {},
   "source": [
    "##### Q4. Write the Python program to find the first appearance of the substring 'not' and 'poor' from the given string, if 'not' follows the 'poor', replace the whole 'not'...' poor' substring with 'good'.Return the resulting string.\n",
    "\n",
    " Sample string: 'The lyrics are not that poor!'\n",
    " 'The lyrics are poor!' <br/>\n",
    " Expected Result: 'The lyrics are good!'\n",
    " 'The lyrics are poor!'"
   ]
  },
  {
   "cell_type": "code",
   "execution_count": 169,
   "metadata": {},
   "outputs": [
    {
     "name": "stdout",
     "output_type": "stream",
     "text": [
      "The lyrics are good!\n"
     ]
    }
   ],
   "source": [
    "def poor_good(s):\n",
    "    s_not = s.find(\"not\")\n",
    "    s_poor = s.find(\"poor\")\n",
    "    \n",
    "    if ( ( s_not >0 and s_poor > 0 ) and s_not < s_poor ):\n",
    "        op_string = s.replace(s[s_not:(s_poor+4)],\"good\")\n",
    "    else:\n",
    "        op_string = s\n",
    "    \n",
    "    return op_string\n",
    "\n",
    "op_string = poor_good('The lyrics are not that poor!')\n",
    "\n",
    "print(op_string)"
   ]
  },
  {
   "cell_type": "markdown",
   "metadata": {},
   "source": [
    "#### Q5. Write the Python program to remove the characters which have odd index values of a given string."
   ]
  },
  {
   "cell_type": "code",
   "execution_count": 170,
   "metadata": {},
   "outputs": [
    {
     "data": {
      "text/plain": [
       "'02468'"
      ]
     },
     "execution_count": 170,
     "metadata": {},
     "output_type": "execute_result"
    }
   ],
   "source": [
    "s = \"0123456789\"\n",
    "\n",
    "s[0::2] #print even string"
   ]
  },
  {
   "cell_type": "markdown",
   "metadata": {},
   "source": [
    "#### Q7. Write the python function to get a string made of its first three characters of a specified string. If then return the original string.\n",
    "\n",
    "Sample function and result : <br/>\n",
    " first-three('ipy') -> ipy <br/>\n",
    " first-three('python') -> pyt"
   ]
  },
  {
   "cell_type": "code",
   "execution_count": 122,
   "metadata": {},
   "outputs": [
    {
     "name": "stdout",
     "output_type": "stream",
     "text": [
      "pyt\n",
      "ipy\n"
     ]
    }
   ],
   "source": [
    "def first_three(s):\n",
    "    if(len(s) > 3):\n",
    "        return s[:3]\n",
    "    else:\n",
    "        return s\n",
    "\n",
    "op_string = first_three(\"python\")\n",
    "op_string1 = first_three(\"ipy\")\n",
    "\n",
    "print(op_string)\n",
    "print(op_string1)"
   ]
  },
  {
   "cell_type": "markdown",
   "metadata": {},
   "source": [
    "##### Q8. Write the python program to print the following floating numbers up to 2 decimal places?\n"
   ]
  },
  {
   "cell_type": "code",
   "execution_count": 145,
   "metadata": {},
   "outputs": [
    {
     "name": "stdout",
     "output_type": "stream",
     "text": [
      "Number upto 2 Decimals: 12.39\n"
     ]
    }
   ],
   "source": [
    "number = 12.38989\n",
    "\n",
    "print(\"Number upto 2 Decimals: {:.2f}\".format(number))"
   ]
  },
  {
   "cell_type": "markdown",
   "metadata": {},
   "source": [
    "#### Q9. Write the Python program to format a number with a percentage?"
   ]
  },
  {
   "cell_type": "code",
   "execution_count": 171,
   "metadata": {},
   "outputs": [
    {
     "name": "stdout",
     "output_type": "stream",
     "text": [
      "Percentage: 25.00%\n"
     ]
    }
   ],
   "source": [
    "number = 0.25\n",
    "\n",
    "print(\"Percentage: {:.2%}\".format(number))"
   ]
  },
  {
   "cell_type": "markdown",
   "metadata": {},
   "source": [
    "#### Q10. Write the Python program to count occurrences of a substring in a String?"
   ]
  },
  {
   "cell_type": "code",
   "execution_count": 7,
   "metadata": {},
   "outputs": [
    {
     "data": {
      "text/plain": [
       "2"
      ]
     },
     "execution_count": 7,
     "metadata": {},
     "output_type": "execute_result"
    }
   ],
   "source": [
    "input = \"man\"\n",
    "string = \"dhmandhman\"\n",
    "\n",
    "string.count(input)"
   ]
  },
  {
   "cell_type": "markdown",
   "metadata": {},
   "source": [
    "#### Q11. Write the Python program to count repeated characters in a string."
   ]
  },
  {
   "cell_type": "code",
   "execution_count": 22,
   "metadata": {},
   "outputs": [
    {
     "name": "stdout",
     "output_type": "stream",
     "text": [
      "t: 2\n",
      "h: 2\n",
      "e: 3\n",
      "u: 2\n",
      "r: 2\n",
      "o: 4\n"
     ]
    }
   ],
   "source": [
    "string = \"thequickbrownfoxjumpsoverthelazydog\"\n",
    "l=[]\n",
    "for s in string:\n",
    "    if(string.count(s) > 1 and s not in l):\n",
    "        l.append(s)\n",
    "        print(\"%s: %d\"%(s,string.count(s)))"
   ]
  },
  {
   "cell_type": "markdown",
   "metadata": {},
   "source": [
    "#### Q12. Write the Python program to print the square and cube symbol in the area of a rectangle and volume of a cylinder?"
   ]
  },
  {
   "cell_type": "code",
   "execution_count": 30,
   "metadata": {},
   "outputs": [
    {
     "name": "stdout",
     "output_type": "stream",
     "text": [
      "The area of the rectangle is 1256.66cm²\n",
      "The volume of the cylinder is 1254.72cm³\n"
     ]
    }
   ],
   "source": [
    "area_rectangle = 1256.66\n",
    "vol_cylinder = 1254.725\n",
    "\n",
    "print(\"The area of the rectangle is {:.2f}cm\\u00b2\".format(area_rectangle))\n",
    "print(\"The volume of the cylinder is {:.2f}cm\\u00b3\".format(vol_cylinder))"
   ]
  },
  {
   "cell_type": "markdown",
   "metadata": {},
   "source": [
    "#### Q13 Write the Python program to check if a string contains all letters of the alphabet?"
   ]
  },
  {
   "cell_type": "code",
   "execution_count": 56,
   "metadata": {
    "scrolled": true
   },
   "outputs": [
    {
     "name": "stdout",
     "output_type": "stream",
     "text": [
      "d is missing\n",
      "g is missing\n"
     ]
    }
   ],
   "source": [
    "input_string = \"the quick brown fox jumps over the lazy cat\"\n",
    "\n",
    "alpha = 'a'\n",
    "missing = 0\n",
    "for i in range(0, 26): \n",
    "    if(alpha not in input_string):\n",
    "        missing = 1\n",
    "        print(\"{} is missing\".format(alpha))\n",
    "    alpha = chr(ord(alpha) + 1) \n",
    "\n",
    "if(missing == 0):\n",
    "    print(\"No alphabet is missing\")"
   ]
  },
  {
   "cell_type": "markdown",
   "metadata": {},
   "source": [
    "#### Q14. Write the Python program to find the second most repeated word in a given string?"
   ]
  },
  {
   "cell_type": "code",
   "execution_count": 104,
   "metadata": {},
   "outputs": [
    {
     "name": "stdout",
     "output_type": "stream",
     "text": [
      "2nd Most repeated word in string is world with count 2\n"
     ]
    }
   ],
   "source": [
    "def findSecondRepeatedWord(input_string):\n",
    "    words = input_string.split(\" \")\n",
    "    \n",
    "    word_count = {}\n",
    "    for word in words:\n",
    "        word_count[word]=words.count(word)\n",
    "    \n",
    "    sorted_word = sorted(word_count.values(),reverse=True)\n",
    "    secondLarge = sorted_word[1] \n",
    "    \n",
    "    for (key,val) in word_count.items():\n",
    "        if val == secondLarge:\n",
    "            print(\"2nd Most repeated word in string is {} with count {}\".format(key,val))\n",
    "\n",
    "input_string = \"hello world world how how how \"\n",
    "findSecondRepeatedWord(input_string)"
   ]
  },
  {
   "cell_type": "markdown",
   "metadata": {},
   "source": [
    "##### Q.15 Write the Python program to find the minimum window in the given string, which will contains all the characters of another given strings"
   ]
  },
  {
   "cell_type": "code",
   "execution_count": 177,
   "metadata": {},
   "outputs": [
    {
     "data": {
      "text/plain": [
       "'SOERIU'"
      ]
     },
     "execution_count": 177,
     "metadata": {},
     "output_type": "execute_result"
    }
   ],
   "source": [
    "# containing all characters of a pattern.  \n",
    "no_of_chars = 256\n",
    "  \n",
    "# Function to find smallest window  \n",
    "# containing all characters of 'pat'  \n",
    "def findSubString(string, pat):  \n",
    "  \n",
    "    len1 = len(string)  \n",
    "    len2 = len(pat)  \n",
    "  \n",
    "    # check if string's length is less than pattern's  \n",
    "    # length. If yes then no such window can exist  \n",
    "    if len1 < len2:  \n",
    "      \n",
    "        print(\"No such window exists\")  \n",
    "        return \"\"  \n",
    "  \n",
    "    hash_pat = [0] * no_of_chars \n",
    "    hash_str = [0] * no_of_chars  \n",
    "  \n",
    "    # store occurrence ofs characters of pattern  \n",
    "    for i in range(0, len2):  \n",
    "        hash_pat[ord(pat[i])] += 1\n",
    "  \n",
    "    start, start_index, min_len = 0, -1, float('inf')  \n",
    "  \n",
    "    # start traversing the string  \n",
    "    count = 0 # count of characters  \n",
    "    for j in range(0, len1):  \n",
    "      \n",
    "        # count occurrence of characters of string  \n",
    "        hash_str[ord(string[j])] += 1\n",
    "  \n",
    "        # If string's char matches with  \n",
    "        # pattern's char then increment count  \n",
    "        if (hash_pat[ord(string[j])] != 0 and hash_str[ord(string[j])] <= hash_pat[ord(string[j])]):  \n",
    "            count += 1\n",
    "  \n",
    "        # if all the characters are matched  \n",
    "        if count == len2:  \n",
    "          \n",
    "            # Try to minimize the window i.e., check if  \n",
    "            # any character is occurring more no. of times  \n",
    "            # than its occurrence in pattern, if yes  \n",
    "            # then remove it from starting and also remove  \n",
    "            # the useless characters.  \n",
    "            while (hash_str[ord(string[start])] >  hash_pat[ord(string[start])] or hash_pat[ord(string[start])] == 0):  \n",
    "\n",
    "                if (hash_str[ord(string[start])] >  hash_pat[ord(string[start])]):  \n",
    "                    hash_str[ord(string[start])] -= 1\n",
    "                \n",
    "                start += 1\n",
    "              \n",
    "            # update window size  \n",
    "            len_window = j - start + 1\n",
    "            if min_len > len_window:\n",
    "                min_len = len_window  \n",
    "                start_index = start  \n",
    "  \n",
    "    # If no window found  \n",
    "    if start_index == -1: \n",
    "        print(\"No such window exists\")  \n",
    "        return \"\"  \n",
    "      \n",
    "    # Return substring starting from  \n",
    "    # start_index and length min_len  \n",
    "    return string[start_index : start_index + min_len]  \n",
    "\n",
    "\n",
    "string = \"PRWSOERIUSFK\"\n",
    "pattern = \"OSU\"\n",
    "\n",
    "findSubString(string,pattern)"
   ]
  }
 ],
 "metadata": {
  "kernelspec": {
   "display_name": "Python 3",
   "language": "python",
   "name": "python3"
  },
  "language_info": {
   "codemirror_mode": {
    "name": "ipython",
    "version": 3
   },
   "file_extension": ".py",
   "mimetype": "text/x-python",
   "name": "python",
   "nbconvert_exporter": "python",
   "pygments_lexer": "ipython3",
   "version": "3.7.5"
  }
 },
 "nbformat": 4,
 "nbformat_minor": 2
}
