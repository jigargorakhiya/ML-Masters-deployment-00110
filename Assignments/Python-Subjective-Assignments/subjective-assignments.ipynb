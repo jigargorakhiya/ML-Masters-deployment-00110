{
 "cells": [
  {
   "cell_type": "markdown",
   "metadata": {},
   "source": [
    "#### Q1. Write a Python program to get the string from the given string where all the occurrence of its first char has been changed to $,' except first char itself?\n",
    " \n",
    "Sample String: 'prospect'<br/>\n",
    "Expected Result : 'pros$ect'"
   ]
  },
  {
   "cell_type": "code",
   "execution_count": 1,
   "metadata": {},
   "outputs": [
    {
     "name": "stdout",
     "output_type": "stream",
     "text": [
      "Enter string:prospect\n"
     ]
    },
    {
     "data": {
      "text/plain": [
       "'pros$ect'"
      ]
     },
     "execution_count": 1,
     "metadata": {},
     "output_type": "execute_result"
    }
   ],
   "source": [
    "input_string = input(\"Enter string:\")\n",
    "\n",
    "l=[]\n",
    "op_string = ''\n",
    "for s in input_string:\n",
    "    if(s in l):\n",
    "        op_string +=\"$\"\n",
    "    else:\n",
    "        op_string +=s\n",
    "    \n",
    "    l.append(s)\n",
    "    \n",
    "op_string"
   ]
  },
  {
   "cell_type": "markdown",
   "metadata": {},
   "source": [
    "#### Q2. Write a Python program to get the single string from the two given strings, and separated by the space and swap the first two characters of  each string?\n",
    "\n",
    "Sample String : 'abc', 'xyz'. <br/>\n",
    "Expected Result: 'xyc abz'"
   ]
  },
  {
   "cell_type": "code",
   "execution_count": 2,
   "metadata": {},
   "outputs": [
    {
     "data": {
      "text/plain": [
       "'xyc abz'"
      ]
     },
     "execution_count": 2,
     "metadata": {},
     "output_type": "execute_result"
    }
   ],
   "source": [
    "string1 = 'abc'\n",
    "string2 = 'xyz'\n",
    "\n",
    "op_string1 = string2[:2]+string1[2:]\n",
    "op_string2 = string1[:2]+string2[2:]\n",
    "op_string =  op_string1 + \" \" +  op_string2\n",
    "\n",
    "op_string"
   ]
  },
  {
   "cell_type": "markdown",
   "metadata": {},
   "source": [
    "##### Q3. Write the Python program to add 'ing' at the end of the given string (length of the string should be at least 3). If given string already ends with 'ing,' then add 'ly' instead. If string length of the given string is less than 3, leave it unchanged?\n",
    "\n",
    " Sample string: ' abc ' <br/>\n",
    " Expectedresult: 'abcing' <br/>\n",
    " Samplestring: 'string' <br/>\n",
    " Expectedresult: 'stringly'<br/>"
   ]
  },
  {
   "cell_type": "code",
   "execution_count": 3,
   "metadata": {},
   "outputs": [
    {
     "data": {
      "text/plain": [
       "'abcing'"
      ]
     },
     "execution_count": 3,
     "metadata": {},
     "output_type": "execute_result"
    }
   ],
   "source": [
    "s= \"abc\"\n",
    "\n",
    "if(len(s) >= 3):\n",
    "    if(s[-3:] != 'ing'):\n",
    "        s +=\"ing\"\n",
    "    else:\n",
    "        s +=\"ly\"\n",
    "\n",
    "s"
   ]
  },
  {
   "cell_type": "markdown",
   "metadata": {},
   "source": [
    "##### Q4. Write the Python program to find the first appearance of the substring 'not' and 'poor' from the given string, if 'not' follows the 'poor', replace the whole 'not'...' poor' substring with 'good'.Return the resulting string.\n",
    "\n",
    " Sample string: 'The lyrics are not that poor!'\n",
    " 'The lyrics are poor!' <br/>\n",
    " Expected Result: 'The lyrics are good!'\n",
    " 'The lyrics are poor!'"
   ]
  },
  {
   "cell_type": "code",
   "execution_count": 4,
   "metadata": {},
   "outputs": [
    {
     "name": "stdout",
     "output_type": "stream",
     "text": [
      "The lyrics are good!\n"
     ]
    }
   ],
   "source": [
    "def poor_good(s):\n",
    "    s_not = s.find(\"not\")\n",
    "    s_poor = s.find(\"poor\")\n",
    "    \n",
    "    if ( ( s_not >0 and s_poor > 0 ) and s_not < s_poor ):\n",
    "        op_string = s.replace(s[s_not:(s_poor+4)],\"good\")\n",
    "    else:\n",
    "        op_string = s\n",
    "    \n",
    "    return op_string\n",
    "\n",
    "op_string = poor_good('The lyrics are not that poor!')\n",
    "\n",
    "print(op_string)"
   ]
  },
  {
   "cell_type": "markdown",
   "metadata": {},
   "source": [
    "#### Q5. Write the Python program to remove the characters which have odd index values of a given string."
   ]
  },
  {
   "cell_type": "code",
   "execution_count": 5,
   "metadata": {},
   "outputs": [
    {
     "data": {
      "text/plain": [
       "'02468'"
      ]
     },
     "execution_count": 5,
     "metadata": {},
     "output_type": "execute_result"
    }
   ],
   "source": [
    "s = \"0123456789\"\n",
    "\n",
    "s[0::2] #print even string"
   ]
  },
  {
   "cell_type": "markdown",
   "metadata": {},
   "source": [
    "#### Q6. Write the Python function to get a string made of 4 copies of the last two characters of the specified string (length must be at least 2)."
   ]
  },
  {
   "cell_type": "code",
   "execution_count": 6,
   "metadata": {},
   "outputs": [
    {
     "data": {
      "text/plain": [
       "'onononon'"
      ]
     },
     "execution_count": 6,
     "metadata": {},
     "output_type": "execute_result"
    }
   ],
   "source": [
    "def insert_end(string):\n",
    "    if(len(string)>2):\n",
    "        return string[-2:] * 4\n",
    "\n",
    "insert_end(\"Python\")"
   ]
  },
  {
   "cell_type": "markdown",
   "metadata": {},
   "source": [
    "#### Q7. Write the python function to get a string made of its first three characters of a specified string. If then return the original string.\n",
    "\n",
    "Sample function and result : <br/>\n",
    " first-three('ipy') -> ipy <br/>\n",
    " first-three('python') -> pyt"
   ]
  },
  {
   "cell_type": "code",
   "execution_count": 7,
   "metadata": {},
   "outputs": [
    {
     "name": "stdout",
     "output_type": "stream",
     "text": [
      "pyt\n",
      "ipy\n"
     ]
    }
   ],
   "source": [
    "def first_three(s):\n",
    "    if(len(s) > 3):\n",
    "        return s[:3]\n",
    "    else:\n",
    "        return s\n",
    "\n",
    "op_string = first_three(\"python\")\n",
    "op_string1 = first_three(\"ipy\")\n",
    "\n",
    "print(op_string)\n",
    "print(op_string1)"
   ]
  },
  {
   "cell_type": "markdown",
   "metadata": {},
   "source": [
    "##### Q8. Write the python program to print the following floating numbers up to 2 decimal places?\n"
   ]
  },
  {
   "cell_type": "code",
   "execution_count": 8,
   "metadata": {},
   "outputs": [
    {
     "name": "stdout",
     "output_type": "stream",
     "text": [
      "Number upto 2 Decimals: 12.39\n"
     ]
    }
   ],
   "source": [
    "number = 12.38989\n",
    "\n",
    "print(\"Number upto 2 Decimals: {:.2f}\".format(number))"
   ]
  },
  {
   "cell_type": "markdown",
   "metadata": {},
   "source": [
    "#### Q9. Write the Python program to format a number with a percentage?"
   ]
  },
  {
   "cell_type": "code",
   "execution_count": 9,
   "metadata": {},
   "outputs": [
    {
     "name": "stdout",
     "output_type": "stream",
     "text": [
      "Percentage: 25.00%\n"
     ]
    }
   ],
   "source": [
    "number = 0.25\n",
    "\n",
    "print(\"Percentage: {:.2%}\".format(number))"
   ]
  },
  {
   "cell_type": "markdown",
   "metadata": {},
   "source": [
    "#### Q10. Write the Python program to count occurrences of a substring in a String?"
   ]
  },
  {
   "cell_type": "code",
   "execution_count": 10,
   "metadata": {},
   "outputs": [
    {
     "data": {
      "text/plain": [
       "2"
      ]
     },
     "execution_count": 10,
     "metadata": {},
     "output_type": "execute_result"
    }
   ],
   "source": [
    "input = \"man\"\n",
    "string = \"dhmandhman\"\n",
    "\n",
    "string.count(input)"
   ]
  },
  {
   "cell_type": "markdown",
   "metadata": {},
   "source": [
    "#### Q11. Write the Python program to count repeated characters in a string."
   ]
  },
  {
   "cell_type": "code",
   "execution_count": 11,
   "metadata": {},
   "outputs": [
    {
     "name": "stdout",
     "output_type": "stream",
     "text": [
      "t: 2\n",
      "h: 2\n",
      "e: 3\n",
      "u: 2\n",
      "r: 2\n",
      "o: 4\n"
     ]
    }
   ],
   "source": [
    "string = \"thequickbrownfoxjumpsoverthelazydog\"\n",
    "l=[]\n",
    "for s in string:\n",
    "    if(string.count(s) > 1 and s not in l):\n",
    "        l.append(s)\n",
    "        print(\"%s: %d\"%(s,string.count(s)))"
   ]
  },
  {
   "cell_type": "markdown",
   "metadata": {},
   "source": [
    "#### Q12. Write the Python program to print the square and cube symbol in the area of a rectangle and volume of a cylinder?"
   ]
  },
  {
   "cell_type": "code",
   "execution_count": 12,
   "metadata": {},
   "outputs": [
    {
     "name": "stdout",
     "output_type": "stream",
     "text": [
      "The area of the rectangle is 1256.66cm²\n",
      "The volume of the cylinder is 1254.72cm³\n"
     ]
    }
   ],
   "source": [
    "area_rectangle = 1256.66\n",
    "vol_cylinder = 1254.725\n",
    "\n",
    "print(\"The area of the rectangle is {:.2f}cm\\u00b2\".format(area_rectangle))\n",
    "print(\"The volume of the cylinder is {:.2f}cm\\u00b3\".format(vol_cylinder))"
   ]
  },
  {
   "cell_type": "markdown",
   "metadata": {},
   "source": [
    "#### Q13 Write the Python program to check if a string contains all letters of the alphabet?"
   ]
  },
  {
   "cell_type": "code",
   "execution_count": 13,
   "metadata": {
    "scrolled": true
   },
   "outputs": [
    {
     "name": "stdout",
     "output_type": "stream",
     "text": [
      "d is missing\n",
      "g is missing\n"
     ]
    }
   ],
   "source": [
    "input_string = \"the quick brown fox jumps over the lazy cat\"\n",
    "\n",
    "alpha = 'a'\n",
    "missing = 0\n",
    "for i in range(0, 26): \n",
    "    if(alpha not in input_string):\n",
    "        missing = 1\n",
    "        print(\"{} is missing\".format(alpha))\n",
    "    alpha = chr(ord(alpha) + 1) \n",
    "\n",
    "if(missing == 0):\n",
    "    print(\"No alphabet is missing\")"
   ]
  },
  {
   "cell_type": "markdown",
   "metadata": {},
   "source": [
    "#### Q14. Write the Python program to find the second most repeated word in a given string?"
   ]
  },
  {
   "cell_type": "code",
   "execution_count": 14,
   "metadata": {},
   "outputs": [
    {
     "name": "stdout",
     "output_type": "stream",
     "text": [
      "2nd Most repeated word in string is world with count 2\n"
     ]
    }
   ],
   "source": [
    "def findSecondRepeatedWord(input_string):\n",
    "    words = input_string.split(\" \")\n",
    "    \n",
    "    word_count = {}\n",
    "    for word in words:\n",
    "        word_count[word]=words.count(word)\n",
    "    \n",
    "    sorted_word = sorted(word_count.values(),reverse=True)\n",
    "    secondLarge = sorted_word[1] \n",
    "    \n",
    "    for (key,val) in word_count.items():\n",
    "        if val == secondLarge:\n",
    "            print(\"2nd Most repeated word in string is {} with count {}\".format(key,val))\n",
    "\n",
    "input_string = \"hello world world how how how \"\n",
    "findSecondRepeatedWord(input_string)"
   ]
  },
  {
   "cell_type": "markdown",
   "metadata": {},
   "source": [
    "##### Q.15 Write the Python program to find the minimum window in the given string, which will contains all the characters of another given strings"
   ]
  },
  {
   "cell_type": "code",
   "execution_count": 15,
   "metadata": {},
   "outputs": [
    {
     "data": {
      "text/plain": [
       "'SOERIU'"
      ]
     },
     "execution_count": 15,
     "metadata": {},
     "output_type": "execute_result"
    }
   ],
   "source": [
    "# containing all characters of a pattern.  \n",
    "no_of_chars = 256\n",
    "  \n",
    "# Function to find smallest window  \n",
    "# containing all characters of 'pat'  \n",
    "def findSubString(string, pat):  \n",
    "  \n",
    "    len1 = len(string)  \n",
    "    len2 = len(pat)  \n",
    "  \n",
    "    # check if string's length is less than pattern's  \n",
    "    # length. If yes then no such window can exist  \n",
    "    if len1 < len2:  \n",
    "      \n",
    "        print(\"No such window exists\")  \n",
    "        return \"\"  \n",
    "  \n",
    "    hash_pat = [0] * no_of_chars \n",
    "    hash_str = [0] * no_of_chars  \n",
    "  \n",
    "    # store occurrence ofs characters of pattern  \n",
    "    for i in range(0, len2):  \n",
    "        hash_pat[ord(pat[i])] += 1\n",
    "  \n",
    "    start, start_index, min_len = 0, -1, float('inf')  \n",
    "  \n",
    "    # start traversing the string  \n",
    "    count = 0 # count of characters  \n",
    "    for j in range(0, len1):  \n",
    "      \n",
    "        # count occurrence of characters of string  \n",
    "        hash_str[ord(string[j])] += 1\n",
    "  \n",
    "        # If string's char matches with  \n",
    "        # pattern's char then increment count  \n",
    "        if (hash_pat[ord(string[j])] != 0 and hash_str[ord(string[j])] <= hash_pat[ord(string[j])]):  \n",
    "            count += 1\n",
    "  \n",
    "        # if all the characters are matched  \n",
    "        if count == len2:  \n",
    "          \n",
    "            # Try to minimize the window i.e., check if  \n",
    "            # any character is occurring more no. of times  \n",
    "            # than its occurrence in pattern, if yes  \n",
    "            # then remove it from starting and also remove  \n",
    "            # the useless characters.  \n",
    "            while (hash_str[ord(string[start])] >  hash_pat[ord(string[start])] or hash_pat[ord(string[start])] == 0):  \n",
    "\n",
    "                if (hash_str[ord(string[start])] >  hash_pat[ord(string[start])]):  \n",
    "                    hash_str[ord(string[start])] -= 1\n",
    "                \n",
    "                start += 1\n",
    "              \n",
    "            # update window size  \n",
    "            len_window = j - start + 1\n",
    "            if min_len > len_window:\n",
    "                min_len = len_window  \n",
    "                start_index = start  \n",
    "  \n",
    "    # If no window found  \n",
    "    if start_index == -1: \n",
    "        print(\"No such window exists\")  \n",
    "        return \"\"  \n",
    "      \n",
    "    # Return substring starting from  \n",
    "    # start_index and length min_len  \n",
    "    return string[start_index : start_index + min_len]  \n",
    "\n",
    "\n",
    "string = \"PRWSOERIUSFK\"\n",
    "pattern = \"OSU\"\n",
    "\n",
    "findSubString(string,pattern)"
   ]
  },
  {
   "cell_type": "markdown",
   "metadata": {},
   "source": [
    "#### Q17. Write the Python program to count number of substrings from a given string of lowercase alphabets with exactly k distinct (given) characters?"
   ]
  },
  {
   "cell_type": "code",
   "execution_count": 2,
   "metadata": {},
   "outputs": [
    {
     "name": "stdout",
     "output_type": "stream",
     "text": [
      "Input a string lowercase alphabet:wolf\n",
      "Input k: 4\n",
      "Number of substrings with exactly 4 distinct characters: 1\n"
     ]
    }
   ],
   "source": [
    "def findSubString(string,k):\n",
    "    count = 0\n",
    "    for s in string.split(\" \"):\n",
    "        if(len(s) == k): \n",
    "            count += 1\n",
    "    return count\n",
    "\n",
    "\n",
    "str1 = input(\"Input a string lowercase alphabet:\")\n",
    "k = int(input(\"Input k: \"))\n",
    "\n",
    "sub_str_count = findSubString(str1,k)\n",
    "\n",
    "print(\"Number of substrings with exactly {} distinct characters: {}\".format(k,sub_str_count))"
   ]
  },
  {
   "cell_type": "markdown",
   "metadata": {},
   "source": [
    "#### Q18  Write the Python program to count number of non-empty substrings of the given string?"
   ]
  },
  {
   "cell_type": "code",
   "execution_count": 3,
   "metadata": {},
   "outputs": [
    {
     "name": "stdout",
     "output_type": "stream",
     "text": [
      "Enter string: w3resource\n",
      "Substring Occurances: w, w3, w3r, w3re, w3res, w3reso, w3resou, w3resour, w3resourc, w3resource, 3, 3r, 3re, 3res, 3reso, 3resou, 3resour, 3resourc, 3resource, r, re, res, reso, resou, resour, resourc, resource, e, es, eso, esou, esour, esourc, esource, s, so, sou, sour, sourc, source, o, ou, our, ourc, ource, u, ur, urc, urce, r, rc, rce, c, ce, e,\n",
      "Count = 55\n"
     ]
    }
   ],
   "source": [
    "def findSubStr(strinng):\n",
    "    sub_str= \"\";\n",
    "    str_length = len(string)+1\n",
    "    count = 0\n",
    "    \n",
    "    for i in range(0,str_length):\n",
    "        for j in range(i+1,str_length):\n",
    "                sub_str += string[i:j] + \", \"\n",
    "                count +=1\n",
    "    \n",
    "    return sub_str,count\n",
    "\n",
    "string = input(\"Enter string: \")\n",
    "sub_str,count = findSubStr(string)\n",
    "print(\"Substring Occurances: {}\".format(sub_str[:-1]))\n",
    "print(\"Count = {}\".format(count))"
   ]
  },
  {
   "cell_type": "markdown",
   "metadata": {},
   "source": [
    "#### Q19. Write the Python program to count number of substrings with same first and last characters of the given string?"
   ]
  },
  {
   "cell_type": "code",
   "execution_count": 4,
   "metadata": {},
   "outputs": [
    {
     "name": "stdout",
     "output_type": "stream",
     "text": [
      "Enter string: abcab\n",
      "Substring with Same first and last characters: a, abca, b, bcab, c, a, b,\n",
      "Count = 7\n"
     ]
    }
   ],
   "source": [
    "def findSubStrWithEqualEnd(string):\n",
    "    sub_str= \"\";\n",
    "    str_length = len(string)+1\n",
    "    count = 0\n",
    "    \n",
    "    for i in range(0,str_length):\n",
    "        for j in range(i+1,str_length):\n",
    "            if( len(string[i:j])  == 1) or ( len(string[i:j])  > 1  and ( string[i] == string[j-1] )):\n",
    "                sub_str += string[i:j] + \", \"\n",
    "                count +=1\n",
    "    \n",
    "    return sub_str,count\n",
    "\n",
    "string = input(\"Enter string: \")\n",
    "sub_str,count = findSubStrWithEqualEnd(string)\n",
    "print(\"Substring with Same first and last characters: {}\".format(sub_str[:-1]))\n",
    "print(\"Count = {}\".format(count))"
   ]
  },
  {
   "cell_type": "markdown",
   "metadata": {},
   "source": [
    "#### Q20. Write the Python program to count the number of strings where the string length is 2 or more, and first and last character are same from a given list of strings."
   ]
  },
  {
   "cell_type": "code",
   "execution_count": 19,
   "metadata": {},
   "outputs": [
    {
     "data": {
      "text/plain": [
       "2"
      ]
     },
     "execution_count": 19,
     "metadata": {},
     "output_type": "execute_result"
    }
   ],
   "source": [
    "def findSubStrWithEqualEnd(str_list):\n",
    "    count = 0\n",
    "    for s in str_list:\n",
    "        if(s[0] == s[-1] and len(s) > 2):\n",
    "            count+=1;\n",
    "    \n",
    "    return count\n",
    "\n",
    "str_list=['abc','xyz','wxyw','121231','11']\n",
    "findSubStrWithEqualEnd(str_list)"
   ]
  },
  {
   "cell_type": "markdown",
   "metadata": {},
   "source": [
    "#### Q21 Write the Python program to get a list, sorted in increasing order by the last element in each tuple from the given list of non-empty tuples?"
   ]
  },
  {
   "cell_type": "code",
   "execution_count": 1,
   "metadata": {},
   "outputs": [
    {
     "data": {
      "text/plain": [
       "[(2, 1), (1, 2), (2, 3), (4, 4), (2, 5)]"
      ]
     },
     "execution_count": 1,
     "metadata": {},
     "output_type": "execute_result"
    }
   ],
   "source": [
    "def getSortedTuple(tuple_list):\n",
    "    tuple_list.sort(key = lambda x:x[1])\n",
    "    return tuple_list\n",
    "\n",
    "tuple_list=[(2,5),(1,2),(4,4),(2,3),(2,1)]\n",
    "getSortedTuple(tuple_list)"
   ]
  },
  {
   "cell_type": "markdown",
   "metadata": {},
   "source": [
    "#### Q22. Write the Python program to remove duplicates from a list?"
   ]
  },
  {
   "cell_type": "code",
   "execution_count": 35,
   "metadata": {},
   "outputs": [
    {
     "data": {
      "text/plain": [
       "['Alice', 'John', 'Zec', 'Dan']"
      ]
     },
     "execution_count": 35,
     "metadata": {},
     "output_type": "execute_result"
    }
   ],
   "source": [
    "listOfStudents = [\"John\",\"Alice\",\"Zec\",\"Dan\",\"John\"]\n",
    "list(set(listOfStudents))\n"
   ]
  },
  {
   "cell_type": "markdown",
   "metadata": {},
   "source": [
    "#### Q23. Write the Python program to find the list of words that are longer than n from a given list of words?\n"
   ]
  },
  {
   "cell_type": "code",
   "execution_count": 34,
   "metadata": {},
   "outputs": [
    {
     "data": {
      "text/plain": [
       "['Alice']"
      ]
     },
     "execution_count": 34,
     "metadata": {},
     "output_type": "execute_result"
    }
   ],
   "source": [
    "listOfStudents = [\"John\",\"Alice\",\"Zec\",\"Dan\",\"John\"]\n",
    "n=4\n",
    "[student for student in listOfStudents if len(student)> n]"
   ]
  },
  {
   "cell_type": "markdown",
   "metadata": {},
   "source": [
    "#### Q24. Write the Python program to print a specified list after removing the 0th, 4th, and 5th elements?"
   ]
  },
  {
   "cell_type": "code",
   "execution_count": 19,
   "metadata": {},
   "outputs": [
    {
     "data": {
      "text/plain": [
       "['Green', 'White', 'Black']"
      ]
     },
     "execution_count": 19,
     "metadata": {},
     "output_type": "execute_result"
    }
   ],
   "source": [
    "list_color = ['Red', 'Green', 'White', 'Black', 'Pink', 'Yellow']\n",
    "new_list = [ value for index,value in enumerate(list_color) if index not in (0,4,5)]\n",
    "new_list"
   ]
  },
  {
   "cell_type": "markdown",
   "metadata": {},
   "source": [
    "#### Q25. Write the Python program to generate all permutations of a list in Python?"
   ]
  },
  {
   "cell_type": "code",
   "execution_count": 44,
   "metadata": {},
   "outputs": [
    {
     "data": {
      "text/plain": [
       "[('a', 'b'), ('a', 'c'), ('b', 'a'), ('b', 'c'), ('c', 'a'), ('c', 'b')]"
      ]
     },
     "execution_count": 44,
     "metadata": {},
     "output_type": "execute_result"
    }
   ],
   "source": [
    "from itertools import permutations \n",
    "perm = permutations(['a', 'b','c' ], 2) \n",
    "list(perm)"
   ]
  },
  {
   "cell_type": "markdown",
   "metadata": {},
   "source": [
    "#### Q26: Write the Python program to convert a pair of values into a sorted unique array?"
   ]
  },
  {
   "cell_type": "code",
   "execution_count": 36,
   "metadata": {},
   "outputs": [
    {
     "data": {
      "text/plain": [
       "[1, 2, 3, 4, 5, 6, 7, 8, 9, 10]"
      ]
     },
     "execution_count": 36,
     "metadata": {},
     "output_type": "execute_result"
    }
   ],
   "source": [
    "input = [ (1, 2), (3, 4), (1, 2), (5, 6), (7, 8), (1, 2), (3, 4), (3, 4), (7, 8), (9, 10) ]\n",
    "\n",
    "new_list = set()\n",
    "for key,value in input:\n",
    "    new_list.add(key)\n",
    "    new_list.add(value)\n",
    "\n",
    "list(sorted(new_list))"
   ]
  },
  {
   "cell_type": "markdown",
   "metadata": {},
   "source": [
    "#### Q27. Write the Python class to convert an integer to a roman numeral?"
   ]
  },
  {
   "cell_type": "code",
   "execution_count": 21,
   "metadata": {},
   "outputs": [
    {
     "name": "stdout",
     "output_type": "stream",
     "text": [
      "XXII\n"
     ]
    }
   ],
   "source": [
    "class IntRomanConverter:\n",
    "\n",
    "    romanTbl = {1: \"I\", 4: \"IV\", 5: \"V\", 9: \"IX\", 10: \"X\", 40: \"XL\", 50: \"L\", 90: \"XC\", 100: \"C\",\n",
    "                400: \"CD\", 500: \"D\", 900: \"CM\", 1000: \"M\"}\n",
    "\n",
    "    def find_minimal_decimal(self, num):\n",
    "        nearest_decimal = []\n",
    "        for i in self.romanTbl.keys():\n",
    "            if i <= num:\n",
    "                nearest_decimal.append(i)\n",
    "            elif i > num:\n",
    "                break\n",
    "        return nearest_decimal[-1]\n",
    "\n",
    "    def int_to_roman(self, num, roman_num=\"\"):\n",
    "        nearest_decimal = self.find_minimal_decimal(num)\n",
    "        remaining_num = num - nearest_decimal\n",
    "\n",
    "        if num == nearest_decimal:\n",
    "            roman_num += self.romanTbl[nearest_decimal]\n",
    "            return  roman_num\n",
    "        elif num > nearest_decimal:\n",
    "            roman_num += self.romanTbl[nearest_decimal]\n",
    "            return self.int_to_roman(remaining_num, roman_num)\n",
    "\n",
    "\n",
    "int_romn_convt = IntRomanConverter()\n",
    "\n",
    "roman_number = int_romn_convt.int_to_roman(22)\n",
    "\n",
    "print(roman_number)"
   ]
  },
  {
   "cell_type": "markdown",
   "metadata": {},
   "source": [
    "#### Q28 Write the Python class to convert a Roman numeral to an integer?"
   ]
  },
  {
   "cell_type": "code",
   "execution_count": 22,
   "metadata": {},
   "outputs": [
    {
     "name": "stdout",
     "output_type": "stream",
     "text": [
      "22\n"
     ]
    }
   ],
   "source": [
    "class RomanIntConverter:\n",
    "\n",
    "    romanTbl = {\"I\":1,\"IV\":4,\"V\":5,\"IX\":9,\"X\":10,\"XL\":40,\"L\":50,\"XC\":90,\"C\":100,\"CD\":400,\"D\":500,\"CM\":900,\"M\":1000}\n",
    "\n",
    "\n",
    "    def roman_to_int(self, roman_val):\n",
    "        try:\n",
    "            if len(roman_val) == 1:\n",
    "                return self.romanTbl[roman_val]\n",
    "                    \n",
    "            i=0\n",
    "            total = 0\n",
    "            for roman_sym in roman_val:\n",
    "                if self.romanTbl[roman_val[i]] >= self.romanTbl[roman_val[i+1]]:\n",
    "                    total += self.romanTbl[roman_sym]\n",
    "                else:\n",
    "                    total -= self.romanTbl[roman_sym]\n",
    "            i+=1\n",
    "            return total;\n",
    "        except:\n",
    "            print(\"Symbol not present\")\n",
    "            return \"\"\n",
    "            \n",
    "\n",
    "\n",
    "romn_int_convt = RomanIntConverter()\n",
    "\n",
    "int_number = romn_int_convt.roman_to_int(\"XXII\")\n",
    "\n",
    "print(int_number)"
   ]
  },
  {
   "cell_type": "markdown",
   "metadata": {},
   "source": [
    "#### Q29: Write the Python class to find the validity of the string of the parentheses, '(', ')', '{', '}', '[' and '] and the brackets must be closed in the correct order, example - \"()\" and \"()[]{}\" are valid but \"[)\", \"({[)]\" and \"{{{\" are invalid."
   ]
  },
  {
   "cell_type": "code",
   "execution_count": 37,
   "metadata": {},
   "outputs": [
    {
     "name": "stdout",
     "output_type": "stream",
     "text": [
      "False\n",
      "True\n",
      "False\n"
     ]
    }
   ],
   "source": [
    "class ValidateBrackets:\n",
    "    \n",
    "    def validate_brackets(self,brackets):\n",
    "        bracket_list,bracket_char = [],{\"(\":\")\",\"{\":\"}\",\"[\":\"]\"}\n",
    "        \n",
    "        for bracket in brackets:\n",
    "            if bracket in bracket_char:\n",
    "                bracket_list.append(bracket)\n",
    "            elif len(bracket_list) == 0 or bracket != bracket_char[bracket_list.pop()]:\n",
    "                return False\n",
    "        return len(bracket_list) == 0\n",
    "\n",
    "brackets = ValidateBrackets()\n",
    "print( brackets.validate_brackets(\"{}[]{()]\") )\n",
    "print( brackets.validate_brackets(\"()[]{}\") )\n",
    "print( brackets.validate_brackets(\"{}[]{}]\") )"
   ]
  },
  {
   "cell_type": "markdown",
   "metadata": {},
   "source": [
    "#### Q30. Write the Python class to get all possible unique subsets from a set of distinct integers?"
   ]
  },
  {
   "cell_type": "code",
   "execution_count": 261,
   "metadata": {},
   "outputs": [
    {
     "name": "stdout",
     "output_type": "stream",
     "text": [
      "[[], [4], [5], [4, 5], [6], [4, 5, 6], [5, 6]]\n"
     ]
    }
   ],
   "source": [
    "class SubSets:\n",
    "    def subSet(self,input_list):\n",
    "        new_list = [[]]\n",
    "        for i in range(0,len(input_list)):\n",
    "            new_list.append([input_list[i]])\n",
    "            for j in range(0,i):\n",
    "                new_list.append(input_list[j:i+1])\n",
    "\n",
    "        return new_list\n",
    "                \n",
    "sub_set = SubSets()\n",
    "op = sub_set.subSet([4,5,6])\n",
    "print(op)"
   ]
  },
  {
   "cell_type": "markdown",
   "metadata": {},
   "source": [
    "#### Q31. Write the Python class to find a pair of elements (indices of the two numbers) from a given array whose sum equals the specific target number?"
   ]
  },
  {
   "cell_type": "code",
   "execution_count": 310,
   "metadata": {},
   "outputs": [
    {
     "name": "stdout",
     "output_type": "stream",
     "text": [
      "[1, 6]\n"
     ]
    }
   ],
   "source": [
    "class findPair:\n",
    "    def find_pair_element(self,start_index,input_list,target):\n",
    "        cur = input_list[start_index]\n",
    "        for i in range(start_index,len(input_list)):\n",
    "            if cur + input_list[i] == target:\n",
    "                return [input_list.index(cur),input_list.index(input_list[i])]\n",
    "        else:\n",
    "            start_index +=1\n",
    "            return self.find_pair_element(start_index,input_list,target)\n",
    "        \n",
    "fp = findPair()\n",
    "\n",
    "input_list=[10,20,10,40,50,60,70]\n",
    "target = 90\n",
    "start_index = 0\n",
    "\n",
    "op = fp.find_pair_element(start_index,input_list,target)\n",
    "print(op)"
   ]
  },
  {
   "cell_type": "markdown",
   "metadata": {},
   "source": [
    "#### Q32. Write the Python class to find the three elements that sum to zero from the set of n real numbers?"
   ]
  },
  {
   "cell_type": "code",
   "execution_count": 1,
   "metadata": {},
   "outputs": [
    {
     "name": "stdout",
     "output_type": "stream",
     "text": [
      "[[-10, 2, 8], [-7, -3, 10]]\n"
     ]
    }
   ],
   "source": [
    "class SumToZero:\n",
    "    def find_pair_element(self,n,arr): \n",
    "        found = False\n",
    "        result = []\n",
    "        # sort array elements \n",
    "        arr.sort() \n",
    "\n",
    "        for i in range(0, n-1): \n",
    "\n",
    "            # initialize left and right \n",
    "            l = i + 1\n",
    "            r = n - 1\n",
    "            x = arr[i] \n",
    "            while (l < r): \n",
    "\n",
    "                if (x + arr[l] + arr[r] == 0): \n",
    "                    # print elements if it's sum is zero \n",
    "                    result.append([x, arr[l], arr[r]]) \n",
    "                    l+=1\n",
    "                    r-=1\n",
    "\n",
    "\n",
    "                # If sum of three elements is less \n",
    "                # than zero then increment in left \n",
    "                elif (x + arr[l] + arr[r] < 0): \n",
    "                    l+=1\n",
    "\n",
    "                # if sum is greater than zero than \n",
    "                # decrement in right side \n",
    "                else: \n",
    "                    r-=1\n",
    "        return result\n",
    "        \n",
    "obj = SumToZero()\n",
    "\n",
    "input_list=[-25,-10,-7, -3, 2, 4, 8, 10]\n",
    "\n",
    "op = obj.find_pair_element(len(input_list),input_list)\n",
    "print(op)"
   ]
  },
  {
   "cell_type": "markdown",
   "metadata": {},
   "source": [
    "#### Q48: Write the NumPy program to create a 2d array with 6 on the border and 0 inside?"
   ]
  },
  {
   "cell_type": "code",
   "execution_count": 10,
   "metadata": {},
   "outputs": [
    {
     "data": {
      "text/plain": [
       "array([[6., 6., 6., 6., 6.],\n",
       "       [6., 0., 0., 0., 6.],\n",
       "       [6., 0., 0., 0., 6.],\n",
       "       [6., 0., 0., 0., 6.],\n",
       "       [6., 6., 6., 6., 6.]])"
      ]
     },
     "execution_count": 10,
     "metadata": {},
     "output_type": "execute_result"
    }
   ],
   "source": [
    "import numpy as np\n",
    "x = 5 + np.ones((5,5))\n",
    "x[1:4,1:4] = 0\n",
    "x"
   ]
  },
  {
   "cell_type": "markdown",
   "metadata": {},
   "source": [
    "#### Q49. Write the NumPy program to create a 8x8 matrix and fill it with the checkerboard pattern?"
   ]
  },
  {
   "cell_type": "code",
   "execution_count": 43,
   "metadata": {},
   "outputs": [
    {
     "data": {
      "text/plain": [
       "array([[3, 9, 3, 9, 3, 9, 3, 9],\n",
       "       [9, 3, 9, 3, 9, 3, 9, 3],\n",
       "       [3, 9, 3, 9, 3, 9, 3, 9],\n",
       "       [9, 3, 9, 3, 9, 3, 9, 3],\n",
       "       [3, 9, 3, 9, 3, 9, 3, 9],\n",
       "       [9, 3, 9, 3, 9, 3, 9, 3],\n",
       "       [3, 9, 3, 9, 3, 9, 3, 9],\n",
       "       [9, 3, 9, 3, 9, 3, 9, 3]])"
      ]
     },
     "execution_count": 43,
     "metadata": {},
     "output_type": "execute_result"
    }
   ],
   "source": [
    "x = 2 + np.ones((8,8),dtype=int)\n",
    "\n",
    "x[1::2,::2] = 9\n",
    "x[::2,1::2] = 9\n",
    "x"
   ]
  },
  {
   "cell_type": "markdown",
   "metadata": {},
   "source": [
    "#### Q50. Write the NumPy program to create an empty and a full array."
   ]
  },
  {
   "cell_type": "code",
   "execution_count": 83,
   "metadata": {},
   "outputs": [
    {
     "name": "stdout",
     "output_type": "stream",
     "text": [
      "[[0.e+000 0.e+000 8.e-323 0.e+000]\n",
      " [0.e+000 0.e+000 0.e+000 0.e+000]\n",
      " [0.e+000 0.e+000 0.e+000 0.e+000]]\n",
      "\n",
      "[[6 6 6]\n",
      " [6 6 6]\n",
      " [6 6 6]]\n"
     ]
    }
   ],
   "source": [
    "x = np.empty((3,4))\n",
    "y = np.full((3,3),6)\n",
    "\n",
    "print(x,y,sep=\"\\n\\n\")"
   ]
  },
  {
   "cell_type": "markdown",
   "metadata": {},
   "source": [
    "#### Q51. Write the NumPy program to convert the values of Centigrade degrees into the Fahrenheit degrees and the centigrade values are stored in the NumPy array."
   ]
  },
  {
   "cell_type": "code",
   "execution_count": 114,
   "metadata": {},
   "outputs": [
    {
     "data": {
      "text/plain": [
       "array([-17.77777778, -11.11111111,   7.33888889,   1.11111111,\n",
       "        37.72777778])"
      ]
     },
     "execution_count": 114,
     "metadata": {},
     "output_type": "execute_result"
    }
   ],
   "source": [
    "temp_f = np.array([0, 12, 45.21 ,34, 99.91],dtype=float)\n",
    "temp_c = (temp_f - 32) * 5/9\n",
    "temp_c"
   ]
  },
  {
   "cell_type": "markdown",
   "metadata": {},
   "source": [
    "#### Q52. Write the NumPy program to find the real and imaginary parts of an array of complex numbers?"
   ]
  },
  {
   "cell_type": "code",
   "execution_count": 127,
   "metadata": {},
   "outputs": [
    {
     "name": "stdout",
     "output_type": "stream",
     "text": [
      "Real Part [1.         0.70710678]\n",
      "Imagniary Part [0.         0.70710678]\n"
     ]
    }
   ],
   "source": [
    "x = np.array([1+2j, 3+4j, 5+6j])\n",
    "x = np.array([ 1.00000000+0.j,0.70710678+0.70710678j])\n",
    "print(\"Real Part\",x.real)\n",
    "print(\"Imagniary Part\",x.imag)"
   ]
  },
  {
   "cell_type": "markdown",
   "metadata": {},
   "source": [
    "#### Q53. Write the NumPy program to test whether each element of a 1-D array is also present in the second array?"
   ]
  },
  {
   "cell_type": "code",
   "execution_count": 133,
   "metadata": {},
   "outputs": [
    {
     "data": {
      "text/plain": [
       "array([ True, False, False,  True, False])"
      ]
     },
     "execution_count": 133,
     "metadata": {},
     "output_type": "execute_result"
    }
   ],
   "source": [
    "x = np.array([0,10,20,40,60])\n",
    "y = np.array([0,40])\n",
    "\n",
    "np.isin(x,y)"
   ]
  },
  {
   "cell_type": "markdown",
   "metadata": {},
   "source": [
    "### Q54. Write the NumPy program to find common values between two arrays?"
   ]
  },
  {
   "cell_type": "code",
   "execution_count": 135,
   "metadata": {},
   "outputs": [
    {
     "data": {
      "text/plain": [
       "array([10, 40])"
      ]
     },
     "execution_count": 135,
     "metadata": {},
     "output_type": "execute_result"
    }
   ],
   "source": [
    "x = np.array([0,10,20,40,60])\n",
    "y = np.array([10,30,40])\n",
    "\n",
    "np.intersect1d(x,y)"
   ]
  },
  {
   "cell_type": "markdown",
   "metadata": {},
   "source": [
    "#### Q55. Write the NumPy program to get the unique elements of an array?"
   ]
  },
  {
   "cell_type": "code",
   "execution_count": 149,
   "metadata": {},
   "outputs": [
    {
     "name": "stdout",
     "output_type": "stream",
     "text": [
      "[10 20 30]\n"
     ]
    },
    {
     "data": {
      "text/plain": [
       "array([1, 2, 3])"
      ]
     },
     "execution_count": 149,
     "metadata": {},
     "output_type": "execute_result"
    }
   ],
   "source": [
    "x = np.array([10,10,20,20,30,30])\n",
    "print(np.unique(x))\n",
    "\n",
    "y = np.array([[1,1],[2,3]])\n",
    "\n",
    "np.unique(y)"
   ]
  },
  {
   "cell_type": "markdown",
   "metadata": {},
   "source": [
    "#### Q56. Write the NumPy program to find the set exclusive-or of two arrays. Set exclusive-or will return the sorted, unique values that are in only one (not both) of the input arrays?"
   ]
  },
  {
   "cell_type": "code",
   "execution_count": 154,
   "metadata": {},
   "outputs": [
    {
     "data": {
      "text/plain": [
       "array([ 0, 20, 30, 50, 60, 70, 80])"
      ]
     },
     "execution_count": 154,
     "metadata": {},
     "output_type": "execute_result"
    }
   ],
   "source": [
    "array1 = np.array([0,10,20,40,60,80])\n",
    "array2 = np.array([10, 30, 40, 50, 70])\n",
    "np.setxor1d(array1,array2)"
   ]
  },
  {
   "cell_type": "markdown",
   "metadata": {},
   "source": [
    "#### Q57. Write the NumPy program to test if all elements in an array evaluate to True ?"
   ]
  },
  {
   "cell_type": "code",
   "execution_count": 164,
   "metadata": {},
   "outputs": [
    {
     "name": "stdout",
     "output_type": "stream",
     "text": [
      "True\n",
      "False\n",
      "True\n"
     ]
    }
   ],
   "source": [
    "x = np.array([10,20,40,60,80])\n",
    "print(np.all(x))\n",
    "\n",
    "y = np.array([[True,True],[False,False]])\n",
    "print(np.all(y))\n",
    "\n",
    "y = np.array([[True,True],[True,True]])\n",
    "print(np.all(y))"
   ]
  },
  {
   "cell_type": "markdown",
   "metadata": {},
   "source": [
    "#### Q59. Write the NumPy program to construct an array by repeating?"
   ]
  },
  {
   "cell_type": "code",
   "execution_count": 185,
   "metadata": {},
   "outputs": [
    {
     "name": "stdout",
     "output_type": "stream",
     "text": [
      "Repating 2 times:  [1 2 3 4 1 2 3 4]\n",
      "Repating 3 times:  [1 2 3 4 1 2 3 4 1 2 3 4]\n"
     ]
    }
   ],
   "source": [
    "x = np.array([1,2,3,4])\n",
    "print(\"Repating 2 times: \", np.tile(x,2) )\n",
    "print(\"Repating 3 times: \",np.tile(x,3))"
   ]
  },
  {
   "cell_type": "markdown",
   "metadata": {},
   "source": [
    "#### Q60. Write the NumPy program to find the indices of the maximum and minimum values with the given axis of an array?"
   ]
  },
  {
   "cell_type": "code",
   "execution_count": 192,
   "metadata": {},
   "outputs": [
    {
     "name": "stdout",
     "output_type": "stream",
     "text": [
      "Min:  0\n",
      "Max:  5\n"
     ]
    }
   ],
   "source": [
    "x = np.array([1,2,3,4,5,6])\n",
    "\n",
    "print(\"Min: \", np.argmin(x) )\n",
    "print(\"Max: \",np.argmax(x) )"
   ]
  },
  {
   "cell_type": "markdown",
   "metadata": {},
   "source": [
    "#### Q61. Write the NumPy program compare two arrays using numpy?"
   ]
  },
  {
   "cell_type": "code",
   "execution_count": 202,
   "metadata": {},
   "outputs": [
    {
     "name": "stdout",
     "output_type": "stream",
     "text": [
      "x > y  [False False]\n",
      "x >= y  [False False]\n",
      "x < y  [ True  True]\n",
      "x <= y  [ True  True]\n"
     ]
    }
   ],
   "source": [
    "x = np.array([1,2])\n",
    "y = np.array([2,4])\n",
    "\n",
    "print(\"x > y \",np.greater(x,y))\n",
    "print(\"x >= y \",np.greater_equal(x,y))\n",
    "print(\"x < y \",np.less(x,y))\n",
    "print(\"x <= y \",np.less_equal(x,y))"
   ]
  },
  {
   "cell_type": "markdown",
   "metadata": {},
   "source": [
    "#### Q62. Write the NumPy program to sort an along the first, last axis of an array?"
   ]
  },
  {
   "cell_type": "code",
   "execution_count": 221,
   "metadata": {},
   "outputs": [
    {
     "data": {
      "text/plain": [
       "array([[2, 1],\n",
       "       [4, 6]])"
      ]
     },
     "execution_count": 221,
     "metadata": {},
     "output_type": "execute_result"
    }
   ],
   "source": [
    "x = np.array([[4,6],[2,1]])\n",
    "\n",
    "np.sort(x,axis=0)"
   ]
  },
  {
   "cell_type": "markdown",
   "metadata": {},
   "source": [
    "#### Q63. Write the NumPy program to sort pairs of first name and last name return their indices (first by last name, then by first name)."
   ]
  },
  {
   "cell_type": "code",
   "execution_count": 235,
   "metadata": {},
   "outputs": [
    {
     "data": {
      "text/plain": [
       "array([0, 1, 2, 3, 4])"
      ]
     },
     "execution_count": 235,
     "metadata": {},
     "output_type": "execute_result"
    }
   ],
   "source": [
    "first_names = ('Betsey', 'Shelley', 'Lanell', 'Genesis', 'Margery')\n",
    "last_names = ('Battle', 'Brien', 'Plotner', 'Stahl', 'Woolum')\n",
    "x = np.lexsort((first_names, last_names))\n",
    "x"
   ]
  },
  {
   "cell_type": "markdown",
   "metadata": {},
   "source": [
    "#### Q64. Write the NumPy program to get the values and indices of the elements that are bigger than 10 in the given array?"
   ]
  },
  {
   "cell_type": "code",
   "execution_count": 233,
   "metadata": {},
   "outputs": [
    {
     "name": "stdout",
     "output_type": "stream",
     "text": [
      "Values > 10  [20 30 20 30 40]\n",
      "Indices (array([0, 0, 1, 1, 1]), array([1, 2, 0, 1, 2]))\n"
     ]
    }
   ],
   "source": [
    "x = np.array([[10,20,30],[20,30,40]])\n",
    "print(\"Values > 10 \",x[x>10])\n",
    "print(\"Indices\",np.nonzero(x > 10))"
   ]
  },
  {
   "cell_type": "markdown",
   "metadata": {},
   "source": [
    "#### Q65. Write the NumPy program to find the memory size of a NumPy array?"
   ]
  },
  {
   "cell_type": "code",
   "execution_count": 239,
   "metadata": {},
   "outputs": [
    {
     "name": "stdout",
     "output_type": "stream",
     "text": [
      "128 bytes\n"
     ]
    }
   ],
   "source": [
    "n = np.zeros((4,4))\n",
    "print(\"%d bytes\" % (n.size * n.itemsize))"
   ]
  },
  {
   "cell_type": "markdown",
   "metadata": {},
   "source": [
    "#### Q66. Write the NumPy program to create an array of ones and an array of zeros?"
   ]
  },
  {
   "cell_type": "code",
   "execution_count": 247,
   "metadata": {},
   "outputs": [
    {
     "name": "stdout",
     "output_type": "stream",
     "text": [
      "Create an array of zeros\n",
      "Default type is float\n",
      "[[0. 0.]]\n",
      "Type changes to int\n",
      "[[0 0]]\n",
      "Create an array of ones\n",
      "Default type is float\n",
      "[[1. 1.]]\n",
      "Type changes to int\n",
      "[[1 1]]\n"
     ]
    }
   ],
   "source": [
    "print(\"Create an array of zeros\")\n",
    "x = np.zeros((1,2))\n",
    "print(\"Default type is float\")\n",
    "print(x)\n",
    "print(\"Type changes to int\")\n",
    "x = np.zeros((1,2), dtype = np.int)\n",
    "print(x)\n",
    "print(\"Create an array of ones\")\n",
    "y= np.ones((1,2)) \n",
    "print(\"Default type is float\")\n",
    "print(y)\n",
    "print(\"Type changes to int\")\n",
    "y = np.ones((1,2), dtype = np.int)\n",
    "print(y)"
   ]
  },
  {
   "cell_type": "markdown",
   "metadata": {},
   "source": [
    "#### Q67. Write the NumPy program to change the dimension of an array?"
   ]
  },
  {
   "cell_type": "code",
   "execution_count": 266,
   "metadata": {},
   "outputs": [
    {
     "name": "stdout",
     "output_type": "stream",
     "text": [
      "6 rows and columns\n",
      "(6,)\n",
      "\n",
      "\n",
      "(3, 3) -> 3 rows and 3 columns \n",
      "[[1 2 3]\n",
      " [4 5 6]\n",
      " [7 8 9]]\n",
      "\n",
      "\n",
      "Change array shape to (3, 3) -> 3 rows and 3 columns \n"
     ]
    }
   ],
   "source": [
    "x = np.array([1, 2, 3, 4, 5, 6])\n",
    "print(\"6 rows and columns\")\n",
    "print(x.shape)\n",
    "print(\"\\n\")\n",
    "y = np.array([[1, 2, 3],[4, 5, 6],[7,8,9]])\n",
    "print(\"(3, 3) -> 3 rows and 3 columns \")\n",
    "print(y)\n",
    "print(\"\\n\")\n",
    "y = np.array([1, 2, 3, 4, 5, 6,7,8,9])\n",
    "print(\"Change array shape to (3, 3) -> 3 rows and 3 columns \")\n",
    "y.shape = (3,3)"
   ]
  },
  {
   "cell_type": "markdown",
   "metadata": {},
   "source": [
    "#### Q68. Write the NumPy program to create a new shape to an array without changing its data ?"
   ]
  },
  {
   "cell_type": "code",
   "execution_count": 273,
   "metadata": {},
   "outputs": [
    {
     "name": "stdout",
     "output_type": "stream",
     "text": [
      "Reshape 3x2 - \n",
      "[[1 2]\n",
      " [3 4]\n",
      " [5 6]]\n",
      "Reshape 2x3 - \n",
      "[[1 2 3]\n",
      " [4 5 6]]\n"
     ]
    }
   ],
   "source": [
    "x = np.array([1,2,3,4,5,6])\n",
    "\n",
    "x.shape = (3,2)\n",
    "print(\"Reshape 3x2 - \",x,sep=\"\\n\")\n",
    "\n",
    "x.shape = (2,3)\n",
    "print(\"Reshape 2x3 - \",x,sep=\"\\n\")"
   ]
  },
  {
   "cell_type": "markdown",
   "metadata": {},
   "source": [
    "#### Q69. Write the NumPy program to create a new array of 3*5, filled with 2?"
   ]
  },
  {
   "cell_type": "code",
   "execution_count": 280,
   "metadata": {},
   "outputs": [
    {
     "data": {
      "text/plain": [
       "array([[2., 2., 2., 2., 2.],\n",
       "       [2., 2., 2., 2., 2.],\n",
       "       [2., 2., 2., 2., 2.]])"
      ]
     },
     "execution_count": 280,
     "metadata": {},
     "output_type": "execute_result"
    }
   ],
   "source": [
    "x = 1 + np.ones((3,5))\n",
    "\n",
    "x"
   ]
  },
  {
   "cell_type": "markdown",
   "metadata": {},
   "source": [
    "#### Q70. Write the NumPy program to create a 3-D array with ones on a diagonal and zeros elsewhere?"
   ]
  },
  {
   "cell_type": "code",
   "execution_count": 293,
   "metadata": {},
   "outputs": [
    {
     "data": {
      "text/plain": [
       "array([[1., 0., 0.],\n",
       "       [0., 1., 0.],\n",
       "       [0., 0., 1.]])"
      ]
     },
     "execution_count": 293,
     "metadata": {},
     "output_type": "execute_result"
    }
   ],
   "source": [
    "np.eye(3)"
   ]
  },
  {
   "cell_type": "markdown",
   "metadata": {},
   "source": [
    "#### Q71. Write the NumPy program to split an array of 14 elements into the 3 arrays and each of which has 2, 4, and 8 elements in original order?"
   ]
  },
  {
   "cell_type": "code",
   "execution_count": 312,
   "metadata": {},
   "outputs": [
    {
     "data": {
      "text/plain": [
       "[array([1, 2]), array([3, 4, 5, 6]), array([ 7,  8,  9, 10, 11, 12, 13, 14])]"
      ]
     },
     "execution_count": 312,
     "metadata": {},
     "output_type": "execute_result"
    }
   ],
   "source": [
    "x = np.arange(1,15)\n",
    "\n",
    "np.split(x,[2,6])"
   ]
  },
  {
   "cell_type": "markdown",
   "metadata": {},
   "source": [
    "#### Q72. Write the NumPy program to split of an array of shape 4x4 it into two arrays along the second axis ?"
   ]
  },
  {
   "cell_type": "code",
   "execution_count": 333,
   "metadata": {},
   "outputs": [
    {
     "name": "stdout",
     "output_type": "stream",
     "text": [
      "[[ 0  1  2  3]\n",
      " [ 4  5  6  7]\n",
      " [ 8  9 10 11]\n",
      " [12 13 14 15]]\n",
      "[array([[ 0,  1],\n",
      "       [ 4,  5],\n",
      "       [ 8,  9],\n",
      "       [12, 13]]), array([[ 2,  3],\n",
      "       [ 6,  7],\n",
      "       [10, 11],\n",
      "       [14, 15]]), array([], shape=(4, 0), dtype=int64)]\n"
     ]
    }
   ],
   "source": [
    "x = np.arange(16).reshape(4,4)\n",
    "x1 = x[:,:2]\n",
    "x2 = x[:,2:]\n",
    "\n",
    "print(x)\n",
    "print(np.hsplit(x,[2,6]))"
   ]
  },
  {
   "cell_type": "markdown",
   "metadata": {},
   "source": [
    "#### Q73. Write the NumPy program to create a 5x5 matrix with row values ranging from 0 to 4?"
   ]
  },
  {
   "cell_type": "code",
   "execution_count": 348,
   "metadata": {},
   "outputs": [
    {
     "data": {
      "text/plain": [
       "array([[0., 1., 2., 3., 4.],\n",
       "       [0., 1., 2., 3., 4.],\n",
       "       [0., 1., 2., 3., 4.],\n",
       "       [0., 1., 2., 3., 4.],\n",
       "       [0., 1., 2., 3., 4.]])"
      ]
     },
     "execution_count": 348,
     "metadata": {},
     "output_type": "execute_result"
    }
   ],
   "source": [
    "x = np.zeros((5,5)) + np.arange(5)\n",
    "x"
   ]
  },
  {
   "cell_type": "markdown",
   "metadata": {},
   "source": [
    "#### Q74. Write the NumPy program to create an array of zeros and three column types (integer, float, character)?"
   ]
  },
  {
   "cell_type": "code",
   "execution_count": 357,
   "metadata": {},
   "outputs": [
    {
     "data": {
      "text/plain": [
       "array([(1, 2., b'Albert Einstein'), (2, 2., b'Edmond Halley'),\n",
       "       (3, 3., b'Gertrude B. Elion')],\n",
       "      dtype=[('f0', '<i4'), ('f1', '<f4'), ('f2', 'S40')])"
      ]
     },
     "execution_count": 357,
     "metadata": {},
     "output_type": "execute_result"
    }
   ],
   "source": [
    "x = np.zeros((3,), dtype=('i4,f4,a40'))\n",
    "new_data = [(1, 2., \"Albert Einstein\"), (2, 2., \"Edmond Halley\"), (3, 3., \"Gertrude B. Elion\")]\n",
    "x[:] = new_data\n",
    "x"
   ]
  },
  {
   "cell_type": "markdown",
   "metadata": {},
   "source": [
    "#### Q75. Write the NumPy program to remove the negative values in the numpy array with 0?"
   ]
  },
  {
   "cell_type": "code",
   "execution_count": 361,
   "metadata": {},
   "outputs": [
    {
     "data": {
      "text/plain": [
       "array([0, 0, 0, 2, 3, 4, 5, 0])"
      ]
     },
     "execution_count": 361,
     "metadata": {},
     "output_type": "execute_result"
    }
   ],
   "source": [
    "x = np.array([-1,-4,0,2,3,4,5,-6])\n",
    "x[x<0] = 0\n",
    "x"
   ]
  },
  {
   "cell_type": "markdown",
   "metadata": {},
   "source": [
    "#### Q101. Write the Python program to add, subtract, multiply and divide two pandas series ?"
   ]
  },
  {
   "cell_type": "code",
   "execution_count": 7,
   "metadata": {},
   "outputs": [
    {
     "name": "stdout",
     "output_type": "stream",
     "text": [
      "Add :  0     3\n",
      "1     7\n",
      "2    11\n",
      "3    15\n",
      "4    19\n",
      "dtype: int64\n",
      "Sub :  0    1\n",
      "1    1\n",
      "2    1\n",
      "3    1\n",
      "4    1\n",
      "dtype: int64\n",
      "Multiply: 0     2\n",
      "1    12\n",
      "2    30\n",
      "3    56\n",
      "4    90\n",
      "dtype: int64\n",
      "Divide: 0    2.000000\n",
      "1    1.333333\n",
      "2    1.200000\n",
      "3    1.142857\n",
      "4    1.111111\n",
      "dtype: float64\n"
     ]
    }
   ],
   "source": [
    "import pandas as pd\n",
    "\n",
    "labels = ['a','b','c','d','e']\n",
    "\n",
    "s1 = [2, 4, 6, 8, 10]\n",
    "s2 = [1, 3, 5, 7, 9]\n",
    "\n",
    "pd_seris1 = pd.Series(s1)\n",
    "pd_seris2 = pd.Series(s2)\n",
    "\n",
    "print(\"Add : \", pd_seris1 + pd_seris2 )\n",
    "print(\"Sub : \", pd_seris1 - pd_seris2 )\n",
    "print(\"Multiply:\",pd_seris1 * pd_seris2 )\n",
    "print(\"Divide:\",pd_seris1 / pd_seris2 )"
   ]
  },
  {
   "cell_type": "markdown",
   "metadata": {},
   "source": [
    "#### Q102. Write a Python program to convert a dictionary to the Pandas Series?"
   ]
  },
  {
   "cell_type": "code",
   "execution_count": 24,
   "metadata": {},
   "outputs": [
    {
     "data": {
      "text/plain": [
       "a    100\n",
       "b    200\n",
       "c    300\n",
       "d    400\n",
       "e    800\n",
       "dtype: int64"
      ]
     },
     "execution_count": 24,
     "metadata": {},
     "output_type": "execute_result"
    }
   ],
   "source": [
    "d = {'a': 100, 'b': 200, 'c': 300, 'd': 400, 'e': 800}\n",
    "pd.Series(d)"
   ]
  },
  {
   "cell_type": "markdown",
   "metadata": {},
   "source": [
    "#### Q103. Write a python program to change the data type of given a column or a Series?"
   ]
  },
  {
   "cell_type": "code",
   "execution_count": 49,
   "metadata": {},
   "outputs": [
    {
     "data": {
      "text/html": [
       "<div>\n",
       "<style scoped>\n",
       "    .dataframe tbody tr th:only-of-type {\n",
       "        vertical-align: middle;\n",
       "    }\n",
       "\n",
       "    .dataframe tbody tr th {\n",
       "        vertical-align: top;\n",
       "    }\n",
       "\n",
       "    .dataframe thead th {\n",
       "        text-align: right;\n",
       "    }\n",
       "</style>\n",
       "<table border=\"1\" class=\"dataframe\">\n",
       "  <thead>\n",
       "    <tr style=\"text-align: right;\">\n",
       "      <th></th>\n",
       "      <th>foo</th>\n",
       "    </tr>\n",
       "  </thead>\n",
       "  <tbody>\n",
       "    <tr>\n",
       "      <th>0</th>\n",
       "      <td>100</td>\n",
       "    </tr>\n",
       "    <tr>\n",
       "      <th>1</th>\n",
       "      <td>200</td>\n",
       "    </tr>\n",
       "    <tr>\n",
       "      <th>2</th>\n",
       "      <td>python</td>\n",
       "    </tr>\n",
       "    <tr>\n",
       "      <th>3</th>\n",
       "      <td>300.12</td>\n",
       "    </tr>\n",
       "    <tr>\n",
       "      <th>4</th>\n",
       "      <td>400</td>\n",
       "    </tr>\n",
       "  </tbody>\n",
       "</table>\n",
       "</div>"
      ],
      "text/plain": [
       "      foo\n",
       "0     100\n",
       "1     200\n",
       "2  python\n",
       "3  300.12\n",
       "4     400"
      ]
     },
     "execution_count": 49,
     "metadata": {},
     "output_type": "execute_result"
    }
   ],
   "source": [
    "s1=[100,200,\"python\",300.12,400]\n",
    "\n",
    "df = pd.DataFrame(s1,columns=[\"foo\"])\n",
    "df"
   ]
  },
  {
   "cell_type": "code",
   "execution_count": 53,
   "metadata": {},
   "outputs": [
    {
     "data": {
      "text/plain": [
       "0    100.00\n",
       "1    200.00\n",
       "2       NaN\n",
       "3    300.12\n",
       "4    400.00\n",
       "Name: foo, dtype: float64"
      ]
     },
     "execution_count": 53,
     "metadata": {},
     "output_type": "execute_result"
    }
   ],
   "source": [
    "df['foo'] = pd.to_numeric(df['foo'], errors='coerce')\n",
    "\n",
    "df['foo']"
   ]
  },
  {
   "cell_type": "markdown",
   "metadata": {},
   "source": [
    "#### Q104. Write the python pandas program to convert the first column of a DataFrame as a Series?"
   ]
  },
  {
   "cell_type": "code",
   "execution_count": 63,
   "metadata": {},
   "outputs": [
    {
     "name": "stdout",
     "output_type": "stream",
     "text": [
      "0     1\n",
      "1     2\n",
      "2     3\n",
      "3     4\n",
      "4     7\n",
      "5    11\n",
      "Name: c2, dtype: int64\n"
     ]
    },
    {
     "data": {
      "text/plain": [
       "pandas.core.series.Series"
      ]
     },
     "execution_count": 63,
     "metadata": {},
     "output_type": "execute_result"
    }
   ],
   "source": [
    "r1 = [0,1,4,7]\n",
    "r2 = [1,2,5,5]\n",
    "r3 = [2,3,6,8]\n",
    "r4 = [3,4,9,12]\n",
    "r5 = [4,7,5,1]\n",
    "r6 = [5,11,0,11]\n",
    "\n",
    "my_data = {'c1':[0,1,2,3,4,5],\n",
    "           'c2':[1,2,3,4,7,11],\n",
    "           'c4':[4,5,6,9,5,0],\n",
    "           'c3':[7,5,8,12,1,11],\n",
    "          }\n",
    "\n",
    "df = pd.DataFrame(my_data)\n",
    "\n",
    "s1 = df['c2']\n",
    "print(s1)\n",
    "type(s1)"
   ]
  }
 ],
 "metadata": {
  "kernelspec": {
   "display_name": "Python 3",
   "language": "python",
   "name": "python3"
  },
  "language_info": {
   "codemirror_mode": {
    "name": "ipython",
    "version": 3
   },
   "file_extension": ".py",
   "mimetype": "text/x-python",
   "name": "python",
   "nbconvert_exporter": "python",
   "pygments_lexer": "ipython3",
   "version": "3.7.5"
  }
 },
 "nbformat": 4,
 "nbformat_minor": 2
}
